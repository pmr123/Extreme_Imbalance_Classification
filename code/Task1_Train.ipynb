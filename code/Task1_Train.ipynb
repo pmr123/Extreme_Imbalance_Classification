{
 "cells": [
  {
   "cell_type": "markdown",
   "id": "91933a57",
   "metadata": {},
   "source": [
    "# Import Libraries"
   ]
  },
  {
   "cell_type": "code",
   "execution_count": 1,
   "id": "b928269c",
   "metadata": {
    "ExecuteTime": {
     "end_time": "2023-11-22T18:00:20.795949Z",
     "start_time": "2023-11-22T18:00:18.785829Z"
    }
   },
   "outputs": [],
   "source": [
    "import pandas as pd\n",
    "import numpy as np\n",
    "from sklearn.model_selection import train_test_split\n",
    "from feature_engine.creation import CyclicalFeatures\n",
    "from feature_engine.encoding import OneHotEncoder\n",
    "from transformers import BertTokenizer\n",
    "from sklearn.preprocessing import MinMaxScaler\n",
    "import xgboost as xgb\n",
    "from sklearn.metrics import classification_report, f1_score, confusion_matrix\n",
    "import seaborn as sns\n",
    "import matplotlib.pyplot as plt \n",
    "import pickle\n",
    "import os\n",
    "import warnings\n",
    "warnings.filterwarnings(\"ignore\")"
   ]
  },
  {
   "cell_type": "markdown",
   "id": "7dc2d7a5",
   "metadata": {},
   "source": [
    "# Set constants"
   ]
  },
  {
   "cell_type": "code",
   "execution_count": 2,
   "id": "42c4bea1",
   "metadata": {
    "ExecuteTime": {
     "end_time": "2023-11-22T18:00:20.800602Z",
     "start_time": "2023-11-22T18:00:20.797074Z"
    }
   },
   "outputs": [],
   "source": [
    "file_path = \"610_ps4_training\\\\610_ps4_training\\\\trainingT1FD\\\\cct_train.csv\"\n",
    "model_path = \"models\\\\t1\"\n",
    "random_seed = 42"
   ]
  },
  {
   "cell_type": "markdown",
   "id": "a5139d1e",
   "metadata": {},
   "source": [
    "# Reading Data"
   ]
  },
  {
   "cell_type": "code",
   "execution_count": 3,
   "id": "cad3d8b7",
   "metadata": {
    "ExecuteTime": {
     "end_time": "2023-11-22T18:00:22.889283Z",
     "start_time": "2023-11-22T18:00:20.801651Z"
    }
   },
   "outputs": [],
   "source": [
    "data = pd.read_csv(file_path, header=0)"
   ]
  },
  {
   "cell_type": "markdown",
   "id": "6f689dbe",
   "metadata": {},
   "source": [
    "## Find number of columns and rows with NaN entries"
   ]
  },
  {
   "cell_type": "code",
   "execution_count": 4,
   "id": "aea3fd8c",
   "metadata": {
    "ExecuteTime": {
     "end_time": "2023-11-22T18:00:23.075096Z",
     "start_time": "2023-11-22T18:00:22.890793Z"
    }
   },
   "outputs": [
    {
     "name": "stdout",
     "output_type": "stream",
     "text": [
      "0\n"
     ]
    }
   ],
   "source": [
    "print(np.count_nonzero(data.isnull().any().sum()))"
   ]
  },
  {
   "cell_type": "markdown",
   "id": "c195f5b2",
   "metadata": {},
   "source": [
    "We see that we have no NaN value which is good"
   ]
  },
  {
   "cell_type": "markdown",
   "id": "ec4beaf3",
   "metadata": {},
   "source": [
    "## Splitting data into train, tune and validate"
   ]
  },
  {
   "cell_type": "code",
   "execution_count": 5,
   "id": "356f9a1a",
   "metadata": {
    "ExecuteTime": {
     "end_time": "2023-11-22T18:00:23.934187Z",
     "start_time": "2023-11-22T18:00:23.076110Z"
    }
   },
   "outputs": [
    {
     "name": "stdout",
     "output_type": "stream",
     "text": [
      "Train data shape =  (567653, 26)\n",
      "Tune data shape =  (63073, 26)\n",
      "validate data shape =  (70081, 26)\n"
     ]
    }
   ],
   "source": [
    "Train, Validate= train_test_split(data, test_size=0.1, random_state=random_seed, stratify=data['is_fraud'])\n",
    "Train, Tune= train_test_split(Train, test_size=0.1, random_state=random_seed, stratify=Train['is_fraud'])\n",
    "\n",
    "# resetting index\n",
    "Train = Train.reset_index(drop=True)\n",
    "Tune = Tune.reset_index(drop=True)\n",
    "Validate = Validate.reset_index(drop=True)\n",
    "\n",
    "# delete data dataframe to save memory\n",
    "data = data.iloc[0:0]\n",
    "\n",
    "print(\"Train data shape = \",Train.shape)\n",
    "print(\"Tune data shape = \",Tune.shape)\n",
    "print(\"validate data shape = \",Validate.shape)"
   ]
  },
  {
   "cell_type": "markdown",
   "id": "de60e5bb",
   "metadata": {},
   "source": [
    "We will explore and train on the training data<br>\n",
    "We will tune on the tuning dataset<br>\n",
    "We will only look at validate data for model validation"
   ]
  },
  {
   "cell_type": "markdown",
   "id": "a373b598",
   "metadata": {},
   "source": [
    "# Exploring Data"
   ]
  },
  {
   "cell_type": "markdown",
   "id": "5b107aad",
   "metadata": {},
   "source": [
    "## Find Class distribution"
   ]
  },
  {
   "cell_type": "code",
   "execution_count": 6,
   "id": "69b4b15e",
   "metadata": {
    "ExecuteTime": {
     "end_time": "2023-11-22T18:00:23.944165Z",
     "start_time": "2023-11-22T18:00:23.935194Z"
    }
   },
   "outputs": [
    {
     "name": "stdout",
     "output_type": "stream",
     "text": [
      "No Frauds 99.4893 % of the dataset\n",
      "Frauds 0.5107 % of the dataset\n"
     ]
    }
   ],
   "source": [
    "print('No Frauds', round(Train['is_fraud'].value_counts()[0]/len(Train['is_fraud']) * 100,4), '% of the dataset')\n",
    "print('Frauds', round(Train['is_fraud'].value_counts()[1]/len(Train['is_fraud']) * 100,4), '% of the dataset')"
   ]
  },
  {
   "cell_type": "markdown",
   "id": "55415678",
   "metadata": {},
   "source": [
    "Classes are heavily biased towards the not fraud case so we have to employ some methods to tackle this issue."
   ]
  },
  {
   "cell_type": "markdown",
   "id": "6b0a0c7f",
   "metadata": {},
   "source": [
    "## Get column data types"
   ]
  },
  {
   "cell_type": "code",
   "execution_count": 7,
   "id": "c236e879",
   "metadata": {
    "ExecuteTime": {
     "end_time": "2023-11-22T18:00:23.951872Z",
     "start_time": "2023-11-22T18:00:23.945183Z"
    }
   },
   "outputs": [
    {
     "data": {
      "text/plain": [
       "ssn            object\n",
       "cc_num          int64\n",
       "first          object\n",
       "last           object\n",
       "gender         object\n",
       "street         object\n",
       "city           object\n",
       "state          object\n",
       "zip             int64\n",
       "lat           float64\n",
       "long          float64\n",
       "city_pop        int64\n",
       "job            object\n",
       "dob            object\n",
       "acct_num        int64\n",
       "profile        object\n",
       "trans_num      object\n",
       "trans_date     object\n",
       "trans_time     object\n",
       "unix_time       int64\n",
       "category       object\n",
       "amt           float64\n",
       "merchant       object\n",
       "merch_lat     float64\n",
       "merch_long    float64\n",
       "is_fraud        int64\n",
       "dtype: object"
      ]
     },
     "execution_count": 7,
     "metadata": {},
     "output_type": "execute_result"
    }
   ],
   "source": [
    "Train.dtypes"
   ]
  },
  {
   "cell_type": "markdown",
   "id": "ff05e845",
   "metadata": {},
   "source": [
    "Our data is a mix of string, date and float values. We need to convert everything to numbers so that we can send our data to our model."
   ]
  },
  {
   "cell_type": "markdown",
   "id": "de0d061d",
   "metadata": {},
   "source": [
    "## Get number of unique items"
   ]
  },
  {
   "cell_type": "code",
   "execution_count": 8,
   "id": "694c8ae4",
   "metadata": {
    "ExecuteTime": {
     "end_time": "2023-11-22T18:00:24.731290Z",
     "start_time": "2023-11-22T18:00:23.952885Z"
    }
   },
   "outputs": [
    {
     "data": {
      "text/plain": [
       "ssn              500\n",
       "cc_num           500\n",
       "first            257\n",
       "last             318\n",
       "gender             2\n",
       "street           500\n",
       "city             413\n",
       "state             48\n",
       "zip              488\n",
       "lat              487\n",
       "long             488\n",
       "city_pop         427\n",
       "job              353\n",
       "dob              496\n",
       "acct_num         500\n",
       "profile           12\n",
       "trans_num     197656\n",
       "trans_date       712\n",
       "trans_time     86149\n",
       "unix_time     562579\n",
       "category          14\n",
       "amt            36416\n",
       "merchant         693\n",
       "merch_lat     557881\n",
       "merch_long    563142\n",
       "is_fraud           2\n",
       "dtype: int64"
      ]
     },
     "execution_count": 8,
     "metadata": {},
     "output_type": "execute_result"
    }
   ],
   "source": [
    "Train.nunique()"
   ]
  },
  {
   "cell_type": "markdown",
   "id": "0ed04150",
   "metadata": {},
   "source": [
    "### ssn, cc_num, and acct_num might represent the same relationship\n",
    "\n",
    "Finding unique combinations to confirm theory"
   ]
  },
  {
   "cell_type": "code",
   "execution_count": 9,
   "id": "eea49905",
   "metadata": {
    "ExecuteTime": {
     "end_time": "2023-11-22T18:00:24.788599Z",
     "start_time": "2023-11-22T18:00:24.733389Z"
    }
   },
   "outputs": [
    {
     "data": {
      "text/plain": [
       "ssn          cc_num               acct_num    \n",
       "006-89-0861  4104145964229712525  288157084137    1389\n",
       "009-02-3453  6011559428434798     942454203201     453\n",
       "010-61-2168  4903494466574378     701267155766     480\n",
       "012-48-0983  213118498042533      689915184885     940\n",
       "013-37-5652  377813767426621      190758885169    1375\n",
       "                                                  ... \n",
       "891-49-6155  2702512868230047     978753281962     926\n",
       "893-97-2577  4716906181208        617166397458     911\n",
       "894-70-0589  3534316117240050     254017756402     465\n",
       "897-37-2345  589556574905         639020125593     476\n",
       "897-59-9080  3598436241862364     420164855200    2292\n",
       "Length: 500, dtype: int64"
      ]
     },
     "execution_count": 9,
     "metadata": {},
     "output_type": "execute_result"
    }
   ],
   "source": [
    "Train.groupby(['ssn','cc_num','acct_num']).size()"
   ]
  },
  {
   "cell_type": "markdown",
   "id": "525c24ac",
   "metadata": {},
   "source": [
    "We get 500 so our theory is confirmed"
   ]
  },
  {
   "cell_type": "markdown",
   "id": "f52773fc",
   "metadata": {},
   "source": [
    "## Get statistics of number type columns"
   ]
  },
  {
   "cell_type": "code",
   "execution_count": 10,
   "id": "65c6c15a",
   "metadata": {
    "ExecuteTime": {
     "end_time": "2023-11-22T18:00:24.940602Z",
     "start_time": "2023-11-22T18:00:24.790313Z"
    }
   },
   "outputs": [
    {
     "data": {
      "text/html": [
       "<div>\n",
       "<style scoped>\n",
       "    .dataframe tbody tr th:only-of-type {\n",
       "        vertical-align: middle;\n",
       "    }\n",
       "\n",
       "    .dataframe tbody tr th {\n",
       "        vertical-align: top;\n",
       "    }\n",
       "\n",
       "    .dataframe thead th {\n",
       "        text-align: right;\n",
       "    }\n",
       "</style>\n",
       "<table border=\"1\" class=\"dataframe\">\n",
       "  <thead>\n",
       "    <tr style=\"text-align: right;\">\n",
       "      <th></th>\n",
       "      <th>cc_num</th>\n",
       "      <th>zip</th>\n",
       "      <th>lat</th>\n",
       "      <th>long</th>\n",
       "      <th>city_pop</th>\n",
       "      <th>acct_num</th>\n",
       "      <th>unix_time</th>\n",
       "      <th>amt</th>\n",
       "      <th>merch_lat</th>\n",
       "      <th>merch_long</th>\n",
       "      <th>is_fraud</th>\n",
       "    </tr>\n",
       "  </thead>\n",
       "  <tbody>\n",
       "    <tr>\n",
       "      <th>count</th>\n",
       "      <td>5.676530e+05</td>\n",
       "      <td>567653.000000</td>\n",
       "      <td>567653.000000</td>\n",
       "      <td>567653.000000</td>\n",
       "      <td>5.676530e+05</td>\n",
       "      <td>5.676530e+05</td>\n",
       "      <td>5.676530e+05</td>\n",
       "      <td>567653.000000</td>\n",
       "      <td>567653.000000</td>\n",
       "      <td>567653.000000</td>\n",
       "      <td>567653.000000</td>\n",
       "    </tr>\n",
       "    <tr>\n",
       "      <th>mean</th>\n",
       "      <td>4.175588e+17</td>\n",
       "      <td>51038.086750</td>\n",
       "      <td>37.496106</td>\n",
       "      <td>-91.521203</td>\n",
       "      <td>3.291080e+05</td>\n",
       "      <td>4.960877e+11</td>\n",
       "      <td>1.643728e+09</td>\n",
       "      <td>71.422758</td>\n",
       "      <td>37.493225</td>\n",
       "      <td>-91.522064</td>\n",
       "      <td>0.005107</td>\n",
       "    </tr>\n",
       "    <tr>\n",
       "      <th>std</th>\n",
       "      <td>1.294128e+18</td>\n",
       "      <td>29540.071409</td>\n",
       "      <td>5.251695</td>\n",
       "      <td>16.465762</td>\n",
       "      <td>6.149860e+05</td>\n",
       "      <td>2.882812e+11</td>\n",
       "      <td>1.779967e+07</td>\n",
       "      <td>163.217447</td>\n",
       "      <td>5.283381</td>\n",
       "      <td>16.475870</td>\n",
       "      <td>0.071281</td>\n",
       "    </tr>\n",
       "    <tr>\n",
       "      <th>min</th>\n",
       "      <td>6.040616e+10</td>\n",
       "      <td>1057.000000</td>\n",
       "      <td>21.299800</td>\n",
       "      <td>-157.875900</td>\n",
       "      <td>4.320000e+02</td>\n",
       "      <td>2.468061e+09</td>\n",
       "      <td>1.611896e+09</td>\n",
       "      <td>1.000000</td>\n",
       "      <td>20.300095</td>\n",
       "      <td>-158.875189</td>\n",
       "      <td>0.000000</td>\n",
       "    </tr>\n",
       "    <tr>\n",
       "      <th>25%</th>\n",
       "      <td>1.800216e+14</td>\n",
       "      <td>27530.000000</td>\n",
       "      <td>33.924100</td>\n",
       "      <td>-97.644700</td>\n",
       "      <td>1.764800e+04</td>\n",
       "      <td>2.443508e+11</td>\n",
       "      <td>1.628248e+09</td>\n",
       "      <td>9.250000</td>\n",
       "      <td>33.924144</td>\n",
       "      <td>-97.853799</td>\n",
       "      <td>0.000000</td>\n",
       "    </tr>\n",
       "    <tr>\n",
       "      <th>50%</th>\n",
       "      <td>3.542178e+15</td>\n",
       "      <td>49128.000000</td>\n",
       "      <td>38.749600</td>\n",
       "      <td>-86.862200</td>\n",
       "      <td>6.342400e+04</td>\n",
       "      <td>4.712868e+11</td>\n",
       "      <td>1.642466e+09</td>\n",
       "      <td>45.400000</td>\n",
       "      <td>38.572769</td>\n",
       "      <td>-87.036438</td>\n",
       "      <td>0.000000</td>\n",
       "    </tr>\n",
       "    <tr>\n",
       "      <th>75%</th>\n",
       "      <td>4.609380e+15</td>\n",
       "      <td>77320.000000</td>\n",
       "      <td>41.091500</td>\n",
       "      <td>-78.898200</td>\n",
       "      <td>2.509750e+05</td>\n",
       "      <td>7.470627e+11</td>\n",
       "      <td>1.659224e+09</td>\n",
       "      <td>82.820000</td>\n",
       "      <td>41.180579</td>\n",
       "      <td>-79.249311</td>\n",
       "      <td>0.000000</td>\n",
       "    </tr>\n",
       "    <tr>\n",
       "      <th>max</th>\n",
       "      <td>4.997335e+18</td>\n",
       "      <td>99654.000000</td>\n",
       "      <td>61.592300</td>\n",
       "      <td>-68.020400</td>\n",
       "      <td>2.906700e+06</td>\n",
       "      <td>9.993899e+11</td>\n",
       "      <td>1.673413e+09</td>\n",
       "      <td>14258.810000</td>\n",
       "      <td>62.592198</td>\n",
       "      <td>-67.333254</td>\n",
       "      <td>1.000000</td>\n",
       "    </tr>\n",
       "  </tbody>\n",
       "</table>\n",
       "</div>"
      ],
      "text/plain": [
       "             cc_num            zip            lat           long  \\\n",
       "count  5.676530e+05  567653.000000  567653.000000  567653.000000   \n",
       "mean   4.175588e+17   51038.086750      37.496106     -91.521203   \n",
       "std    1.294128e+18   29540.071409       5.251695      16.465762   \n",
       "min    6.040616e+10    1057.000000      21.299800    -157.875900   \n",
       "25%    1.800216e+14   27530.000000      33.924100     -97.644700   \n",
       "50%    3.542178e+15   49128.000000      38.749600     -86.862200   \n",
       "75%    4.609380e+15   77320.000000      41.091500     -78.898200   \n",
       "max    4.997335e+18   99654.000000      61.592300     -68.020400   \n",
       "\n",
       "           city_pop      acct_num     unix_time            amt      merch_lat  \\\n",
       "count  5.676530e+05  5.676530e+05  5.676530e+05  567653.000000  567653.000000   \n",
       "mean   3.291080e+05  4.960877e+11  1.643728e+09      71.422758      37.493225   \n",
       "std    6.149860e+05  2.882812e+11  1.779967e+07     163.217447       5.283381   \n",
       "min    4.320000e+02  2.468061e+09  1.611896e+09       1.000000      20.300095   \n",
       "25%    1.764800e+04  2.443508e+11  1.628248e+09       9.250000      33.924144   \n",
       "50%    6.342400e+04  4.712868e+11  1.642466e+09      45.400000      38.572769   \n",
       "75%    2.509750e+05  7.470627e+11  1.659224e+09      82.820000      41.180579   \n",
       "max    2.906700e+06  9.993899e+11  1.673413e+09   14258.810000      62.592198   \n",
       "\n",
       "          merch_long       is_fraud  \n",
       "count  567653.000000  567653.000000  \n",
       "mean      -91.522064       0.005107  \n",
       "std        16.475870       0.071281  \n",
       "min      -158.875189       0.000000  \n",
       "25%       -97.853799       0.000000  \n",
       "50%       -87.036438       0.000000  \n",
       "75%       -79.249311       0.000000  \n",
       "max       -67.333254       1.000000  "
      ]
     },
     "execution_count": 10,
     "metadata": {},
     "output_type": "execute_result"
    }
   ],
   "source": [
    "Train.describe()"
   ]
  },
  {
   "cell_type": "markdown",
   "id": "73450065",
   "metadata": {},
   "source": [
    "# Preprocess data"
   ]
  },
  {
   "cell_type": "markdown",
   "id": "1d87b122",
   "metadata": {},
   "source": [
    "## Delete unwanted columns"
   ]
  },
  {
   "cell_type": "code",
   "execution_count": 11,
   "id": "d05effce",
   "metadata": {
    "ExecuteTime": {
     "end_time": "2023-11-22T18:00:24.943962Z",
     "start_time": "2023-11-22T18:00:24.941111Z"
    }
   },
   "outputs": [],
   "source": [
    "def del_col(df):\n",
    "    return df.drop(columns=['ssn','cc_num','unix_time','trans_num'])"
   ]
  },
  {
   "cell_type": "markdown",
   "id": "76808adc",
   "metadata": {},
   "source": [
    "## Feature Creation"
   ]
  },
  {
   "cell_type": "markdown",
   "id": "e24c8bfb",
   "metadata": {},
   "source": [
    "### Combine first and last to find name"
   ]
  },
  {
   "cell_type": "code",
   "execution_count": 12,
   "id": "dacb0288",
   "metadata": {
    "ExecuteTime": {
     "end_time": "2023-11-22T18:00:24.952283Z",
     "start_time": "2023-11-22T18:00:24.944887Z"
    }
   },
   "outputs": [],
   "source": [
    "def get_name(df):\n",
    "    df['name'] = df['first'].astype('str') + ' ' + df['last'].astype('str')\n",
    "    df = df.drop(columns=['first', 'last'])\n",
    "    return df"
   ]
  },
  {
   "cell_type": "markdown",
   "id": "623cf3b4",
   "metadata": {},
   "source": [
    "### Get distance between the two (lat,long) pairs\n",
    "\n",
    "Using Haversine formula to do so"
   ]
  },
  {
   "cell_type": "code",
   "execution_count": 13,
   "id": "4b5d1fc8",
   "metadata": {
    "ExecuteTime": {
     "end_time": "2023-11-22T18:00:24.959411Z",
     "start_time": "2023-11-22T18:00:24.952806Z"
    }
   },
   "outputs": [],
   "source": [
    "def distance_haversine(df):\n",
    "    r = 6371 # distance in KM\n",
    "    p = np.pi/180\n",
    "    a = 0.5 - np.cos((df['merch_lat']-df['lat'])*p)/2 + np.cos(df['lat']*p) * np.cos(df['merch_lat']*p) * (1-np.cos((df['merch_long']-df['long'])*p))/2\n",
    "    df['distance'] =  2 * r * np.arcsin(np.sqrt(a))\n",
    "    df = df.drop(columns=['lat', 'long', 'merch_lat', 'merch_long'])\n",
    "    return df\n",
    "    \n"
   ]
  },
  {
   "cell_type": "markdown",
   "id": "797325fd",
   "metadata": {},
   "source": [
    "## Deal with Categorical data\n",
    "\n",
    "We have to deal with gender, state, job, profile, and category. <br>\n",
    "We do that by one hot encoding these columns"
   ]
  },
  {
   "cell_type": "code",
   "execution_count": 14,
   "id": "7ceba2a1",
   "metadata": {
    "ExecuteTime": {
     "end_time": "2023-11-22T18:00:24.967201Z",
     "start_time": "2023-11-22T18:00:24.960866Z"
    }
   },
   "outputs": [],
   "source": [
    "ohe_cols = ['gender', 'state', 'profile', 'category']\n",
    "def ofe_fit(df):\n",
    "    # define encoder\n",
    "    ohe_encoder = OneHotEncoder(variables=ohe_cols)\n",
    "    \n",
    "    # fit the encoder\n",
    "    ohe_encoder.fit(df)\n",
    "    \n",
    "    # save encoder\n",
    "    pickle.dump(ohe_encoder, open(os.path.join(model_path, 'ohe_encoder.pkl'), 'wb'))\n",
    "\n",
    "def ohe(df):\n",
    "    # load encoder\n",
    "    ohe_encoder = pickle.load(open(os.path.join(model_path, 'ohe_encoder.pkl'), 'rb'))\n",
    "    \n",
    "    # transform df\n",
    "    return ohe_encoder.transform(df)"
   ]
  },
  {
   "cell_type": "markdown",
   "id": "b8a360b6",
   "metadata": {},
   "source": [
    "## Deal with DateTime Data\n",
    "\n",
    "We have to deal with dob, trans_date, trans_time, and unix_time. <br>\n",
    "Since we already have transaction date and time, we will be directly dropping unix time and it conveys the same info."
   ]
  },
  {
   "cell_type": "markdown",
   "id": "513c47eb",
   "metadata": {},
   "source": [
    "### Convert into appropriate formats\n",
    "\n",
    "dob and trans_date can be split into year, month, and day while trans_time can be split into hrs, mins, and secs"
   ]
  },
  {
   "cell_type": "code",
   "execution_count": 15,
   "id": "6fc8ccfc",
   "metadata": {
    "ExecuteTime": {
     "end_time": "2023-11-22T18:00:24.974436Z",
     "start_time": "2023-11-22T18:00:24.968209Z"
    }
   },
   "outputs": [],
   "source": [
    "def split_datetime(df):\n",
    "    df[['dob_year', 'dob_month', 'dob_day']] = df['dob'].str.split('-', expand=True)\n",
    "    df[['trans_date_year', 'trans_date_month', 'trans_date_day']] = df['trans_date'].str.split('-', expand=True)\n",
    "    df[['trans_time_hrs', 'trans_time_mins', 'trans_time_secs']] = df['trans_time'].str.split(':', expand=True)\n",
    "    df = df.drop(columns=['dob', 'trans_date', 'trans_time'])\n",
    "    return df"
   ]
  },
  {
   "cell_type": "markdown",
   "id": "966e3945",
   "metadata": {},
   "source": [
    "### Decompose variables into sin and cosine components\n",
    "\n",
    "Hour 24 is closer to hour 0 than hour 22 and month 12 is closer to month 0 than month 10. <br>\n",
    "To deal with the cyclic nature of dates and times, we decompose the variables (except year as it does not follow this property) into sin and cosine components.  "
   ]
  },
  {
   "cell_type": "code",
   "execution_count": 16,
   "id": "8543518c",
   "metadata": {
    "ExecuteTime": {
     "end_time": "2023-11-22T18:00:24.981913Z",
     "start_time": "2023-11-22T18:00:24.975448Z"
    }
   },
   "outputs": [],
   "source": [
    "# define varaible to convert and respective possible max values\n",
    "cyclical_variables = ['dob_month', 'dob_day', 'trans_date_month', 'trans_date_day', 'trans_time_mins', 'trans_time_secs', 'trans_time_hrs']\n",
    "max_values = {'dob_month':12, 'dob_day':31, 'trans_date_month':12, 'trans_date_day':31,'trans_time_hrs':24, 'trans_time_mins':60, 'trans_time_secs':60}\n",
    "\n",
    "def fit_cyclic_transform(df):\n",
    "    # convert columns to numeric format\n",
    "    df[cyclical_variables] = df[cyclical_variables].astype(float)\n",
    "\n",
    "    # define transformer\n",
    "    cyclical = CyclicalFeatures(variables = cyclical_variables, max_values = max_values, drop_original = True)\n",
    "    \n",
    "    # fit transformer\n",
    "    cyclical.fit(df)\n",
    "    \n",
    "    # save transformer\n",
    "    pickle.dump(cyclical, open(os.path.join(model_path, 'cyclical.pkl'), 'wb'))\n",
    "    \n",
    "    \n",
    "def cyclic_transform(df):\n",
    "    # convert columns to numeric format\n",
    "    df[cyclical_variables] = df[cyclical_variables].astype(float)\n",
    "\n",
    "    # load encoder\n",
    "    cyclical = pickle.load(open(os.path.join(model_path, 'cyclical.pkl'), 'rb'))\n",
    "    \n",
    "    # transform df\n",
    "    return cyclical.transform(df)"
   ]
  },
  {
   "cell_type": "markdown",
   "id": "5974c80a",
   "metadata": {},
   "source": [
    "## Deal with Text Data\n",
    "\n",
    "We have to deal with first, last, street, city, and merchant"
   ]
  },
  {
   "cell_type": "markdown",
   "id": "89a8c971",
   "metadata": {},
   "source": [
    "### Preprocess data"
   ]
  },
  {
   "cell_type": "code",
   "execution_count": 17,
   "id": "eba1b92e",
   "metadata": {
    "ExecuteTime": {
     "end_time": "2023-11-22T18:00:24.989266Z",
     "start_time": "2023-11-22T18:00:24.982929Z"
    }
   },
   "outputs": [],
   "source": [
    "def preprocess_text(text):\n",
    "    # remove unnecessary characters\n",
    "    text = text.replace('fraud_','').replace(',', '').replace('.', '')\n",
    "    # lowercase text\n",
    "    text = str(text).lower()\n",
    "    return text\n",
    "\n",
    "def preprocess_text_in_df(df):\n",
    "    \n",
    "    df['name'] = np.vectorize(preprocess_text)(df['name']) \n",
    "    df['job'] = np.vectorize(preprocess_text)(df['job']) \n",
    "    df['street'] = np.vectorize(preprocess_text)(df['street']) \n",
    "    df['merchant'] = np.vectorize(preprocess_text)(df['merchant']) \n",
    "    df['city'] = np.vectorize(preprocess_text)(df['city']) \n",
    "    return df"
   ]
  },
  {
   "cell_type": "markdown",
   "id": "56eb2943",
   "metadata": {},
   "source": [
    "### Define and tokenize text data using BertTokenizer"
   ]
  },
  {
   "cell_type": "code",
   "execution_count": 18,
   "id": "3dd516ea",
   "metadata": {
    "ExecuteTime": {
     "end_time": "2023-11-22T18:00:25.333166Z",
     "start_time": "2023-11-22T18:00:24.990781Z"
    }
   },
   "outputs": [],
   "source": [
    "tokenizer = BertTokenizer.from_pretrained('bert-base-uncased')\n",
    "\n",
    "def find_ids(text, max_len):\n",
    "    tk = tokenizer.convert_tokens_to_ids(tokenizer.tokenize(text))\n",
    "    for x in range(len(tk), max_len):\n",
    "        tk.append(0)\n",
    "    \n",
    "    return tk[:max_len]\n",
    "\n",
    "def sent_to_ids(df):\n",
    "    df['name'] = df['name'].apply(find_ids, max_len=5)\n",
    "    df['job'] = df['job'].apply(find_ids, max_len=10)\n",
    "    df['street'] = df['street'].apply(find_ids, max_len=15)\n",
    "    df['merchant'] = df['merchant'].apply(find_ids, max_len=10)\n",
    "    df['city'] = df['city'].apply(find_ids, max_len=5)\n",
    "    \n",
    "    return df\n",
    "\n",
    "def convert_list_to_cols(df, col_name):\n",
    "    tdf = df[col_name].to_list()\n",
    "    tdf = pd.DataFrame(tdf, columns=[str(col_name)+'_'+str(x) for x in range(len(tdf[0]))])\n",
    "    df = pd.concat([df, tdf], axis=1)\n",
    "    df = df.drop(columns=[col_name])\n",
    "    return df\n",
    "\n",
    "def convert_list_to_cols_multi(df):\n",
    "    df = convert_list_to_cols(df, 'name')\n",
    "    df = convert_list_to_cols(df, 'job')\n",
    "    df = convert_list_to_cols(df, 'street')\n",
    "    df = convert_list_to_cols(df, 'merchant')\n",
    "    df = convert_list_to_cols(df, 'city')\n",
    "    return df"
   ]
  },
  {
   "cell_type": "markdown",
   "id": "3439b71f",
   "metadata": {},
   "source": [
    "## Convert everything to float and scale values"
   ]
  },
  {
   "cell_type": "code",
   "execution_count": 19,
   "id": "a6dca9a2",
   "metadata": {
    "ExecuteTime": {
     "end_time": "2023-11-22T18:00:25.338438Z",
     "start_time": "2023-11-22T18:00:25.334177Z"
    }
   },
   "outputs": [],
   "source": [
    "cols_to_be_normalized = ['zip', 'city_pop', 'amt',\n",
    "                         'dob_month_sin', 'dob_day_sin', \n",
    "                         'trans_date_month_sin', 'trans_date_day_sin', \n",
    "                         'trans_time_mins_sin', 'trans_time_secs_sin', \n",
    "                         'dob_month_cos', 'dob_day_cos', \n",
    "                         'trans_date_month_cos', 'trans_date_day_cos', \n",
    "                         'trans_time_mins_cos', 'trans_time_secs_cos',\n",
    "                         'trans_time_hrs_cos', 'trans_time_hrs_sin']\n",
    "\n",
    "def fit_scale(df):\n",
    "    df = df.astype(float)\n",
    "    scaler = MinMaxScaler()\n",
    "    scaler.fit(df[cols_to_be_normalized].values)\n",
    "    # save transformer\n",
    "    pickle.dump(scaler, open(os.path.join(model_path, 'scaler.pkl'), 'wb'))\n",
    "\n",
    "def scale(df):\n",
    "    df = df.astype(float)\n",
    "    \n",
    "    # load encoder\n",
    "    scaler = pickle.load(open(os.path.join(model_path, 'scaler.pkl'), 'rb'))\n",
    "    \n",
    "    scaled = scaler.transform(df[cols_to_be_normalized])\n",
    "    df[cols_to_be_normalized] = pd.DataFrame(scaled, columns=cols_to_be_normalized)\n",
    "    \n",
    "    return df"
   ]
  },
  {
   "cell_type": "markdown",
   "id": "241066ed",
   "metadata": {},
   "source": [
    "## Create function to call above functions"
   ]
  },
  {
   "cell_type": "code",
   "execution_count": 20,
   "id": "abcc896f",
   "metadata": {
    "ExecuteTime": {
     "end_time": "2023-11-22T18:00:25.349283Z",
     "start_time": "2023-11-22T18:00:25.339724Z"
    }
   },
   "outputs": [],
   "source": [
    "def preprocess(df, train=False):\n",
    "    print(\"     Feature Engineering steps\")\n",
    "    df = del_col(df)\n",
    "    df = get_name(df)\n",
    "    df = distance_haversine(df)\n",
    "    print(\"     Dealing with Categorical Data\")\n",
    "    if train:\n",
    "        ofe_fit(df)\n",
    "    df = ohe(df)\n",
    "    print(\"     Dealing with DateTime Date\")\n",
    "    df = split_datetime(df)\n",
    "    if train:\n",
    "        fit_cyclic_transform(df)\n",
    "    df = cyclic_transform(df)\n",
    "    print(\"     Dealing with Text Data\")\n",
    "    df = preprocess_text_in_df(df)\n",
    "    df = sent_to_ids(df)\n",
    "    df = convert_list_to_cols_multi(df)\n",
    "    print(\"     Normalizing Data\")\n",
    "    if train:\n",
    "        fit_scale(df)\n",
    "    df = scale(df)\n",
    "    df = df.astype(float)\n",
    "    print(\"     Done\")\n",
    "    return df"
   ]
  },
  {
   "cell_type": "markdown",
   "id": "cb788641",
   "metadata": {},
   "source": [
    "## Apply Preprocessing\n",
    "\n",
    "Please be patient. Dealing with Text Data step can take some time"
   ]
  },
  {
   "cell_type": "code",
   "execution_count": 21,
   "id": "207d8e43",
   "metadata": {
    "ExecuteTime": {
     "end_time": "2023-11-22T18:09:28.555130Z",
     "start_time": "2023-11-22T18:00:25.351301Z"
    }
   },
   "outputs": [
    {
     "name": "stdout",
     "output_type": "stream",
     "text": [
      "Prepping Training Dataset\n",
      "     Feature Engineering steps\n",
      "     Dealing with Categorical Data\n",
      "     Dealing with DateTime Date\n",
      "     Dealing with Text Data\n",
      "     Normalizing Data\n",
      "     Done\n",
      "Prepping Tuning Dataset\n",
      "     Feature Engineering steps\n",
      "     Dealing with Categorical Data\n",
      "     Dealing with DateTime Date\n",
      "     Dealing with Text Data\n",
      "     Normalizing Data\n",
      "     Done\n",
      "Prepping Validation Dataset\n",
      "     Feature Engineering steps\n",
      "     Dealing with Categorical Data\n",
      "     Dealing with DateTime Date\n",
      "     Dealing with Text Data\n",
      "     Normalizing Data\n",
      "     Done\n"
     ]
    }
   ],
   "source": [
    "print(\"Prepping Training Dataset\")\n",
    "Train = preprocess(Train, train=True)\n",
    "print(\"Prepping Tuning Dataset\")\n",
    "Tune = preprocess(Tune)\n",
    "print(\"Prepping Validation Dataset\")\n",
    "Validate = preprocess(Validate)"
   ]
  },
  {
   "cell_type": "markdown",
   "id": "8ec630ec",
   "metadata": {},
   "source": [
    "# Using XGBoost"
   ]
  },
  {
   "cell_type": "markdown",
   "id": "79e0a6fa",
   "metadata": {},
   "source": [
    "## define f1 error for evaluation"
   ]
  },
  {
   "cell_type": "code",
   "execution_count": 22,
   "id": "3b75c6fe",
   "metadata": {
    "ExecuteTime": {
     "end_time": "2023-11-22T18:09:28.562042Z",
     "start_time": "2023-11-22T18:09:28.557755Z"
    }
   },
   "outputs": [],
   "source": [
    "def f1_eval(y_pred, dtrain):\n",
    "    y_true = dtrain.get_label()\n",
    "    err = 1-f1_score(y_true, np.round(y_pred), average='macro')\n",
    "    return 'f1_err', err"
   ]
  },
  {
   "cell_type": "markdown",
   "id": "8a526c88",
   "metadata": {},
   "source": [
    "## Define Parameters "
   ]
  },
  {
   "cell_type": "code",
   "execution_count": 23,
   "id": "dea260b4",
   "metadata": {
    "ExecuteTime": {
     "end_time": "2023-11-22T18:09:28.571875Z",
     "start_time": "2023-11-22T18:09:28.565235Z"
    }
   },
   "outputs": [],
   "source": [
    "# Define hyperparameters\n",
    "params = {'device' : 'cuda',\n",
    "          'objective' : 'binary:logistic',\n",
    "          'seed' : random_seed,\n",
    "          'sampling_method' : 'gradient_based'}"
   ]
  },
  {
   "cell_type": "markdown",
   "id": "0d0ea226",
   "metadata": {},
   "source": [
    "## Creating XGB DMatrix"
   ]
  },
  {
   "cell_type": "code",
   "execution_count": 24,
   "id": "bd6fa6d7",
   "metadata": {
    "ExecuteTime": {
     "end_time": "2023-11-22T18:09:30.474624Z",
     "start_time": "2023-11-22T18:09:28.573924Z"
    }
   },
   "outputs": [],
   "source": [
    "dtrain = xgb.DMatrix(Train.drop(columns=['is_fraud']), Train['is_fraud'], missing=0.0)\n",
    "Train = Train.iloc[0:0] # resetting it to save memory\n",
    "\n",
    "dtune = xgb.DMatrix(Tune.drop(columns=['is_fraud']), Tune['is_fraud'], missing=0.0)\n",
    "Tune = Tune.iloc[0:0] # resetting it to save memory\n",
    "\n",
    "dvalidate = xgb.DMatrix(Validate.drop(columns=['is_fraud']), Validate['is_fraud'], missing=0.0)"
   ]
  },
  {
   "cell_type": "markdown",
   "id": "a01b5409",
   "metadata": {},
   "source": [
    "## Fit Model"
   ]
  },
  {
   "cell_type": "code",
   "execution_count": 25,
   "id": "b82d1a5e",
   "metadata": {
    "ExecuteTime": {
     "end_time": "2023-11-22T18:10:46.326201Z",
     "start_time": "2023-11-22T18:09:30.476629Z"
    }
   },
   "outputs": [
    {
     "name": "stdout",
     "output_type": "stream",
     "text": [
      "[0]\ttrain-logloss:0.10113\ttrain-f1_err:0.22046\tvalidation-logloss:0.10132\tvalidation-f1_err:0.22426\n",
      "[1]\ttrain-logloss:0.07570\ttrain-f1_err:0.18659\tvalidation-logloss:0.07601\tvalidation-f1_err:0.19286\n",
      "[2]\ttrain-logloss:0.05760\ttrain-f1_err:0.17005\tvalidation-logloss:0.05797\tvalidation-f1_err:0.16868\n",
      "[3]\ttrain-logloss:0.04433\ttrain-f1_err:0.15371\tvalidation-logloss:0.04477\tvalidation-f1_err:0.15270\n",
      "[4]\ttrain-logloss:0.03469\ttrain-f1_err:0.14569\tvalidation-logloss:0.03512\tvalidation-f1_err:0.14246\n",
      "[5]\ttrain-logloss:0.02772\ttrain-f1_err:0.13271\tvalidation-logloss:0.02824\tvalidation-f1_err:0.13414\n",
      "[6]\ttrain-logloss:0.02263\ttrain-f1_err:0.12783\tvalidation-logloss:0.02323\tvalidation-f1_err:0.13536\n",
      "[7]\ttrain-logloss:0.01879\ttrain-f1_err:0.12550\tvalidation-logloss:0.01941\tvalidation-f1_err:0.13273\n",
      "[8]\ttrain-logloss:0.01600\ttrain-f1_err:0.12078\tvalidation-logloss:0.01667\tvalidation-f1_err:0.12671\n",
      "[9]\ttrain-logloss:0.01366\ttrain-f1_err:0.11573\tvalidation-logloss:0.01432\tvalidation-f1_err:0.12552\n",
      "[10]\ttrain-logloss:0.01207\ttrain-f1_err:0.11508\tvalidation-logloss:0.01280\tvalidation-f1_err:0.12081\n",
      "[11]\ttrain-logloss:0.01078\ttrain-f1_err:0.10850\tvalidation-logloss:0.01154\tvalidation-f1_err:0.11472\n",
      "[12]\ttrain-logloss:0.00984\ttrain-f1_err:0.10808\tvalidation-logloss:0.01063\tvalidation-f1_err:0.11544\n",
      "[13]\ttrain-logloss:0.00919\ttrain-f1_err:0.10701\tvalidation-logloss:0.01000\tvalidation-f1_err:0.11472\n",
      "[14]\ttrain-logloss:0.00856\ttrain-f1_err:0.10473\tvalidation-logloss:0.00945\tvalidation-f1_err:0.11357\n",
      "[15]\ttrain-logloss:0.00820\ttrain-f1_err:0.10248\tvalidation-logloss:0.00914\tvalidation-f1_err:0.11242\n",
      "[16]\ttrain-logloss:0.00781\ttrain-f1_err:0.10109\tvalidation-logloss:0.00870\tvalidation-f1_err:0.11013\n",
      "[17]\ttrain-logloss:0.00750\ttrain-f1_err:0.09885\tvalidation-logloss:0.00841\tvalidation-f1_err:0.10787\n",
      "[18]\ttrain-logloss:0.00721\ttrain-f1_err:0.09625\tvalidation-logloss:0.00822\tvalidation-f1_err:0.10640\n",
      "[19]\ttrain-logloss:0.00674\ttrain-f1_err:0.09255\tvalidation-logloss:0.00780\tvalidation-f1_err:0.10714\n",
      "[20]\ttrain-logloss:0.00657\ttrain-f1_err:0.09127\tvalidation-logloss:0.00770\tvalidation-f1_err:0.10377\n",
      "[21]\ttrain-logloss:0.00623\ttrain-f1_err:0.08797\tvalidation-logloss:0.00741\tvalidation-f1_err:0.10265\n",
      "[22]\ttrain-logloss:0.00608\ttrain-f1_err:0.08716\tvalidation-logloss:0.00734\tvalidation-f1_err:0.10154\n",
      "[23]\ttrain-logloss:0.00551\ttrain-f1_err:0.08114\tvalidation-logloss:0.00688\tvalidation-f1_err:0.09749\n",
      "[24]\ttrain-logloss:0.00513\ttrain-f1_err:0.07774\tvalidation-logloss:0.00643\tvalidation-f1_err:0.09205\n",
      "[25]\ttrain-logloss:0.00497\ttrain-f1_err:0.07677\tvalidation-logloss:0.00630\tvalidation-f1_err:0.09313\n",
      "[26]\ttrain-logloss:0.00482\ttrain-f1_err:0.07482\tvalidation-logloss:0.00626\tvalidation-f1_err:0.09313\n",
      "[27]\ttrain-logloss:0.00477\ttrain-f1_err:0.07389\tvalidation-logloss:0.00626\tvalidation-f1_err:0.09239\n",
      "[28]\ttrain-logloss:0.00464\ttrain-f1_err:0.07175\tvalidation-logloss:0.00613\tvalidation-f1_err:0.09023\n",
      "[29]\ttrain-logloss:0.00440\ttrain-f1_err:0.06700\tvalidation-logloss:0.00589\tvalidation-f1_err:0.08491\n",
      "[30]\ttrain-logloss:0.00424\ttrain-f1_err:0.06458\tvalidation-logloss:0.00582\tvalidation-f1_err:0.08491\n",
      "[31]\ttrain-logloss:0.00413\ttrain-f1_err:0.06321\tvalidation-logloss:0.00575\tvalidation-f1_err:0.08491\n",
      "[32]\ttrain-logloss:0.00403\ttrain-f1_err:0.06180\tvalidation-logloss:0.00568\tvalidation-f1_err:0.08356\n",
      "[33]\ttrain-logloss:0.00394\ttrain-f1_err:0.06031\tvalidation-logloss:0.00565\tvalidation-f1_err:0.08356\n",
      "[34]\ttrain-logloss:0.00368\ttrain-f1_err:0.05516\tvalidation-logloss:0.00538\tvalidation-f1_err:0.08071\n",
      "[35]\ttrain-logloss:0.00342\ttrain-f1_err:0.05067\tvalidation-logloss:0.00506\tvalidation-f1_err:0.07352\n",
      "[36]\ttrain-logloss:0.00328\ttrain-f1_err:0.04952\tvalidation-logloss:0.00495\tvalidation-f1_err:0.07428\n",
      "[37]\ttrain-logloss:0.00320\ttrain-f1_err:0.04871\tvalidation-logloss:0.00493\tvalidation-f1_err:0.07251\n",
      "[38]\ttrain-logloss:0.00310\ttrain-f1_err:0.04780\tvalidation-logloss:0.00490\tvalidation-f1_err:0.07074\n",
      "[39]\ttrain-logloss:0.00298\ttrain-f1_err:0.04635\tvalidation-logloss:0.00486\tvalidation-f1_err:0.06974\n",
      "[40]\ttrain-logloss:0.00294\ttrain-f1_err:0.04504\tvalidation-logloss:0.00484\tvalidation-f1_err:0.07150\n",
      "[41]\ttrain-logloss:0.00288\ttrain-f1_err:0.04412\tvalidation-logloss:0.00486\tvalidation-f1_err:0.07049\n",
      "[42]\ttrain-logloss:0.00279\ttrain-f1_err:0.04328\tvalidation-logloss:0.00487\tvalidation-f1_err:0.06949\n",
      "[43]\ttrain-logloss:0.00271\ttrain-f1_err:0.04088\tvalidation-logloss:0.00484\tvalidation-f1_err:0.06974\n",
      "[44]\ttrain-logloss:0.00253\ttrain-f1_err:0.03728\tvalidation-logloss:0.00457\tvalidation-f1_err:0.06475\n",
      "[45]\ttrain-logloss:0.00246\ttrain-f1_err:0.03464\tvalidation-logloss:0.00450\tvalidation-f1_err:0.06279\n",
      "[46]\ttrain-logloss:0.00242\ttrain-f1_err:0.03357\tvalidation-logloss:0.00449\tvalidation-f1_err:0.06279\n",
      "[47]\ttrain-logloss:0.00235\ttrain-f1_err:0.03356\tvalidation-logloss:0.00446\tvalidation-f1_err:0.06377\n",
      "[48]\ttrain-logloss:0.00232\ttrain-f1_err:0.03326\tvalidation-logloss:0.00448\tvalidation-f1_err:0.06377\n",
      "[49]\ttrain-logloss:0.00225\ttrain-f1_err:0.03199\tvalidation-logloss:0.00449\tvalidation-f1_err:0.06475\n",
      "[50]\ttrain-logloss:0.00221\ttrain-f1_err:0.03132\tvalidation-logloss:0.00447\tvalidation-f1_err:0.06300\n",
      "[51]\ttrain-logloss:0.00214\ttrain-f1_err:0.03006\tvalidation-logloss:0.00445\tvalidation-f1_err:0.06125\n",
      "[52]\ttrain-logloss:0.00209\ttrain-f1_err:0.02929\tvalidation-logloss:0.00447\tvalidation-f1_err:0.06125\n",
      "[53]\ttrain-logloss:0.00200\ttrain-f1_err:0.02763\tvalidation-logloss:0.00441\tvalidation-f1_err:0.06279\n",
      "[54]\ttrain-logloss:0.00196\ttrain-f1_err:0.02697\tvalidation-logloss:0.00440\tvalidation-f1_err:0.06083\n",
      "[55]\ttrain-logloss:0.00192\ttrain-f1_err:0.02602\tvalidation-logloss:0.00440\tvalidation-f1_err:0.06181\n",
      "[56]\ttrain-logloss:0.00187\ttrain-f1_err:0.02526\tvalidation-logloss:0.00441\tvalidation-f1_err:0.06279\n",
      "[57]\ttrain-logloss:0.00182\ttrain-f1_err:0.02470\tvalidation-logloss:0.00439\tvalidation-f1_err:0.06181\n",
      "[58]\ttrain-logloss:0.00179\ttrain-f1_err:0.02403\tvalidation-logloss:0.00437\tvalidation-f1_err:0.06475\n",
      "[59]\ttrain-logloss:0.00177\ttrain-f1_err:0.02394\tvalidation-logloss:0.00440\tvalidation-f1_err:0.06597\n",
      "[60]\ttrain-logloss:0.00175\ttrain-f1_err:0.02403\tvalidation-logloss:0.00440\tvalidation-f1_err:0.06620\n",
      "[61]\ttrain-logloss:0.00171\ttrain-f1_err:0.02272\tvalidation-logloss:0.00439\tvalidation-f1_err:0.06521\n",
      "[62]\ttrain-logloss:0.00167\ttrain-f1_err:0.02225\tvalidation-logloss:0.00438\tvalidation-f1_err:0.06674\n",
      "[63]\ttrain-logloss:0.00162\ttrain-f1_err:0.02083\tvalidation-logloss:0.00438\tvalidation-f1_err:0.06399\n",
      "[64]\ttrain-logloss:0.00158\ttrain-f1_err:0.01971\tvalidation-logloss:0.00439\tvalidation-f1_err:0.06597\n",
      "[65]\ttrain-logloss:0.00151\ttrain-f1_err:0.01868\tvalidation-logloss:0.00427\tvalidation-f1_err:0.06498\n",
      "[66]\ttrain-logloss:0.00146\ttrain-f1_err:0.01794\tvalidation-logloss:0.00425\tvalidation-f1_err:0.06521\n",
      "[67]\ttrain-logloss:0.00142\ttrain-f1_err:0.01673\tvalidation-logloss:0.00426\tvalidation-f1_err:0.06521\n",
      "[68]\ttrain-logloss:0.00139\ttrain-f1_err:0.01600\tvalidation-logloss:0.00428\tvalidation-f1_err:0.06421\n",
      "[69]\ttrain-logloss:0.00135\ttrain-f1_err:0.01527\tvalidation-logloss:0.00427\tvalidation-f1_err:0.06322\n",
      "[70]\ttrain-logloss:0.00133\ttrain-f1_err:0.01499\tvalidation-logloss:0.00426\tvalidation-f1_err:0.06421\n",
      "[71]\ttrain-logloss:0.00129\ttrain-f1_err:0.01435\tvalidation-logloss:0.00424\tvalidation-f1_err:0.06421\n",
      "[72]\ttrain-logloss:0.00124\ttrain-f1_err:0.01307\tvalidation-logloss:0.00421\tvalidation-f1_err:0.06224\n",
      "[73]\ttrain-logloss:0.00120\ttrain-f1_err:0.01252\tvalidation-logloss:0.00420\tvalidation-f1_err:0.06224\n",
      "[74]\ttrain-logloss:0.00118\ttrain-f1_err:0.01225\tvalidation-logloss:0.00419\tvalidation-f1_err:0.06322\n",
      "[75]\ttrain-logloss:0.00117\ttrain-f1_err:0.01197\tvalidation-logloss:0.00421\tvalidation-f1_err:0.06224\n",
      "[76]\ttrain-logloss:0.00114\ttrain-f1_err:0.01143\tvalidation-logloss:0.00419\tvalidation-f1_err:0.06125\n",
      "[77]\ttrain-logloss:0.00113\ttrain-f1_err:0.01152\tvalidation-logloss:0.00419\tvalidation-f1_err:0.06224\n",
      "[78]\ttrain-logloss:0.00109\ttrain-f1_err:0.01098\tvalidation-logloss:0.00419\tvalidation-f1_err:0.06498\n",
      "[79]\ttrain-logloss:0.00107\ttrain-f1_err:0.01035\tvalidation-logloss:0.00419\tvalidation-f1_err:0.06104\n",
      "[80]\ttrain-logloss:0.00105\ttrain-f1_err:0.00999\tvalidation-logloss:0.00418\tvalidation-f1_err:0.06202\n",
      "[81]\ttrain-logloss:0.00103\ttrain-f1_err:0.00999\tvalidation-logloss:0.00417\tvalidation-f1_err:0.06202\n"
     ]
    },
    {
     "name": "stdout",
     "output_type": "stream",
     "text": [
      "[82]\ttrain-logloss:0.00099\ttrain-f1_err:0.00900\tvalidation-logloss:0.00417\tvalidation-f1_err:0.06125\n",
      "[83]\ttrain-logloss:0.00097\ttrain-f1_err:0.00882\tvalidation-logloss:0.00417\tvalidation-f1_err:0.06125\n",
      "[84]\ttrain-logloss:0.00096\ttrain-f1_err:0.00855\tvalidation-logloss:0.00417\tvalidation-f1_err:0.06125\n",
      "[85]\ttrain-logloss:0.00094\ttrain-f1_err:0.00828\tvalidation-logloss:0.00417\tvalidation-f1_err:0.06202\n",
      "[86]\ttrain-logloss:0.00093\ttrain-f1_err:0.00792\tvalidation-logloss:0.00418\tvalidation-f1_err:0.06300\n",
      "[87]\ttrain-logloss:0.00091\ttrain-f1_err:0.00765\tvalidation-logloss:0.00419\tvalidation-f1_err:0.06202\n",
      "[88]\ttrain-logloss:0.00088\ttrain-f1_err:0.00721\tvalidation-logloss:0.00419\tvalidation-f1_err:0.06202\n",
      "[89]\ttrain-logloss:0.00086\ttrain-f1_err:0.00685\tvalidation-logloss:0.00418\tvalidation-f1_err:0.06104\n",
      "[90]\ttrain-logloss:0.00084\ttrain-f1_err:0.00649\tvalidation-logloss:0.00419\tvalidation-f1_err:0.06028\n",
      "[91]\ttrain-logloss:0.00082\ttrain-f1_err:0.00623\tvalidation-logloss:0.00420\tvalidation-f1_err:0.06028\n",
      "[92]\ttrain-logloss:0.00080\ttrain-f1_err:0.00579\tvalidation-logloss:0.00420\tvalidation-f1_err:0.06104\n",
      "[93]\ttrain-logloss:0.00078\ttrain-f1_err:0.00596\tvalidation-logloss:0.00417\tvalidation-f1_err:0.06202\n",
      "[94]\ttrain-logloss:0.00076\ttrain-f1_err:0.00526\tvalidation-logloss:0.00416\tvalidation-f1_err:0.06104\n",
      "[95]\ttrain-logloss:0.00075\ttrain-f1_err:0.00508\tvalidation-logloss:0.00417\tvalidation-f1_err:0.06007\n",
      "[96]\ttrain-logloss:0.00073\ttrain-f1_err:0.00481\tvalidation-logloss:0.00419\tvalidation-f1_err:0.06104\n",
      "[97]\ttrain-logloss:0.00071\ttrain-f1_err:0.00464\tvalidation-logloss:0.00422\tvalidation-f1_err:0.06202\n",
      "[98]\ttrain-logloss:0.00070\ttrain-f1_err:0.00455\tvalidation-logloss:0.00423\tvalidation-f1_err:0.05986\n",
      "[99]\ttrain-logloss:0.00069\ttrain-f1_err:0.00437\tvalidation-logloss:0.00423\tvalidation-f1_err:0.06007\n",
      "[100]\ttrain-logloss:0.00068\ttrain-f1_err:0.00437\tvalidation-logloss:0.00424\tvalidation-f1_err:0.06083\n",
      "[101]\ttrain-logloss:0.00067\ttrain-f1_err:0.00411\tvalidation-logloss:0.00425\tvalidation-f1_err:0.06083\n",
      "[102]\ttrain-logloss:0.00066\ttrain-f1_err:0.00402\tvalidation-logloss:0.00422\tvalidation-f1_err:0.06007\n",
      "[103]\ttrain-logloss:0.00065\ttrain-f1_err:0.00367\tvalidation-logloss:0.00422\tvalidation-f1_err:0.06007\n",
      "[104]\ttrain-logloss:0.00063\ttrain-f1_err:0.00323\tvalidation-logloss:0.00422\tvalidation-f1_err:0.06007\n",
      "[105]\ttrain-logloss:0.00062\ttrain-f1_err:0.00314\tvalidation-logloss:0.00421\tvalidation-f1_err:0.06007\n",
      "[106]\ttrain-logloss:0.00059\ttrain-f1_err:0.00288\tvalidation-logloss:0.00418\tvalidation-f1_err:0.05813\n",
      "[107]\ttrain-logloss:0.00058\ttrain-f1_err:0.00253\tvalidation-logloss:0.00417\tvalidation-f1_err:0.05813\n",
      "[108]\ttrain-logloss:0.00056\ttrain-f1_err:0.00226\tvalidation-logloss:0.00419\tvalidation-f1_err:0.05813\n",
      "[109]\ttrain-logloss:0.00055\ttrain-f1_err:0.00218\tvalidation-logloss:0.00417\tvalidation-f1_err:0.05909\n",
      "[110]\ttrain-logloss:0.00054\ttrain-f1_err:0.00200\tvalidation-logloss:0.00420\tvalidation-f1_err:0.05909\n",
      "[111]\ttrain-logloss:0.00053\ttrain-f1_err:0.00191\tvalidation-logloss:0.00420\tvalidation-f1_err:0.05909\n",
      "[112]\ttrain-logloss:0.00052\ttrain-f1_err:0.00165\tvalidation-logloss:0.00421\tvalidation-f1_err:0.05909\n",
      "[113]\ttrain-logloss:0.00051\ttrain-f1_err:0.00165\tvalidation-logloss:0.00422\tvalidation-f1_err:0.05986\n",
      "[114]\ttrain-logloss:0.00049\ttrain-f1_err:0.00156\tvalidation-logloss:0.00416\tvalidation-f1_err:0.05986\n",
      "[115]\ttrain-logloss:0.00048\ttrain-f1_err:0.00148\tvalidation-logloss:0.00413\tvalidation-f1_err:0.05889\n",
      "[116]\ttrain-logloss:0.00047\ttrain-f1_err:0.00139\tvalidation-logloss:0.00414\tvalidation-f1_err:0.05813\n",
      "[117]\ttrain-logloss:0.00047\ttrain-f1_err:0.00122\tvalidation-logloss:0.00416\tvalidation-f1_err:0.05813\n",
      "[118]\ttrain-logloss:0.00046\ttrain-f1_err:0.00122\tvalidation-logloss:0.00415\tvalidation-f1_err:0.05813\n",
      "[119]\ttrain-logloss:0.00045\ttrain-f1_err:0.00069\tvalidation-logloss:0.00413\tvalidation-f1_err:0.05813\n",
      "[120]\ttrain-logloss:0.00044\ttrain-f1_err:0.00087\tvalidation-logloss:0.00414\tvalidation-f1_err:0.05813\n",
      "[121]\ttrain-logloss:0.00043\ttrain-f1_err:0.00078\tvalidation-logloss:0.00413\tvalidation-f1_err:0.05813\n",
      "[122]\ttrain-logloss:0.00042\ttrain-f1_err:0.00061\tvalidation-logloss:0.00412\tvalidation-f1_err:0.05813\n",
      "[123]\ttrain-logloss:0.00041\ttrain-f1_err:0.00043\tvalidation-logloss:0.00413\tvalidation-f1_err:0.05813\n",
      "[124]\ttrain-logloss:0.00041\ttrain-f1_err:0.00043\tvalidation-logloss:0.00413\tvalidation-f1_err:0.05813\n",
      "[125]\ttrain-logloss:0.00039\ttrain-f1_err:0.00043\tvalidation-logloss:0.00411\tvalidation-f1_err:0.05716\n",
      "[126]\ttrain-logloss:0.00039\ttrain-f1_err:0.00035\tvalidation-logloss:0.00412\tvalidation-f1_err:0.05813\n",
      "[127]\ttrain-logloss:0.00038\ttrain-f1_err:0.00035\tvalidation-logloss:0.00412\tvalidation-f1_err:0.05909\n",
      "[128]\ttrain-logloss:0.00037\ttrain-f1_err:0.00009\tvalidation-logloss:0.00414\tvalidation-f1_err:0.05813\n",
      "[129]\ttrain-logloss:0.00037\ttrain-f1_err:0.00009\tvalidation-logloss:0.00413\tvalidation-f1_err:0.05716\n",
      "[130]\ttrain-logloss:0.00036\ttrain-f1_err:0.00017\tvalidation-logloss:0.00412\tvalidation-f1_err:0.05620\n",
      "[131]\ttrain-logloss:0.00035\ttrain-f1_err:0.00017\tvalidation-logloss:0.00412\tvalidation-f1_err:0.05716\n",
      "[132]\ttrain-logloss:0.00035\ttrain-f1_err:0.00000\tvalidation-logloss:0.00411\tvalidation-f1_err:0.05716\n",
      "[133]\ttrain-logloss:0.00034\ttrain-f1_err:0.00000\tvalidation-logloss:0.00413\tvalidation-f1_err:0.05620\n",
      "[134]\ttrain-logloss:0.00033\ttrain-f1_err:0.00000\tvalidation-logloss:0.00412\tvalidation-f1_err:0.05620\n",
      "[135]\ttrain-logloss:0.00033\ttrain-f1_err:0.00000\tvalidation-logloss:0.00411\tvalidation-f1_err:0.05620\n",
      "[136]\ttrain-logloss:0.00032\ttrain-f1_err:0.00000\tvalidation-logloss:0.00413\tvalidation-f1_err:0.05813\n",
      "[137]\ttrain-logloss:0.00031\ttrain-f1_err:0.00000\tvalidation-logloss:0.00410\tvalidation-f1_err:0.05620\n",
      "[138]\ttrain-logloss:0.00031\ttrain-f1_err:0.00000\tvalidation-logloss:0.00410\tvalidation-f1_err:0.05716\n",
      "[139]\ttrain-logloss:0.00030\ttrain-f1_err:0.00000\tvalidation-logloss:0.00411\tvalidation-f1_err:0.05716\n",
      "[140]\ttrain-logloss:0.00030\ttrain-f1_err:0.00000\tvalidation-logloss:0.00411\tvalidation-f1_err:0.05620\n",
      "[141]\ttrain-logloss:0.00029\ttrain-f1_err:0.00000\tvalidation-logloss:0.00412\tvalidation-f1_err:0.05524\n",
      "[142]\ttrain-logloss:0.00029\ttrain-f1_err:0.00000\tvalidation-logloss:0.00409\tvalidation-f1_err:0.05524\n",
      "[143]\ttrain-logloss:0.00028\ttrain-f1_err:0.00000\tvalidation-logloss:0.00411\tvalidation-f1_err:0.05620\n",
      "[144]\ttrain-logloss:0.00027\ttrain-f1_err:0.00000\tvalidation-logloss:0.00412\tvalidation-f1_err:0.05620\n",
      "[145]\ttrain-logloss:0.00027\ttrain-f1_err:0.00000\tvalidation-logloss:0.00412\tvalidation-f1_err:0.05524\n",
      "[146]\ttrain-logloss:0.00027\ttrain-f1_err:0.00000\tvalidation-logloss:0.00414\tvalidation-f1_err:0.05620\n",
      "[147]\ttrain-logloss:0.00027\ttrain-f1_err:0.00000\tvalidation-logloss:0.00414\tvalidation-f1_err:0.05620\n",
      "[148]\ttrain-logloss:0.00027\ttrain-f1_err:0.00000\tvalidation-logloss:0.00414\tvalidation-f1_err:0.05716\n",
      "[149]\ttrain-logloss:0.00026\ttrain-f1_err:0.00000\tvalidation-logloss:0.00415\tvalidation-f1_err:0.05716\n",
      "[150]\ttrain-logloss:0.00026\ttrain-f1_err:0.00000\tvalidation-logloss:0.00415\tvalidation-f1_err:0.05524\n",
      "[151]\ttrain-logloss:0.00026\ttrain-f1_err:0.00000\tvalidation-logloss:0.00415\tvalidation-f1_err:0.05620\n",
      "[152]\ttrain-logloss:0.00025\ttrain-f1_err:0.00000\tvalidation-logloss:0.00414\tvalidation-f1_err:0.05620\n",
      "[153]\ttrain-logloss:0.00025\ttrain-f1_err:0.00000\tvalidation-logloss:0.00415\tvalidation-f1_err:0.05620\n",
      "[154]\ttrain-logloss:0.00025\ttrain-f1_err:0.00000\tvalidation-logloss:0.00414\tvalidation-f1_err:0.05524\n",
      "[155]\ttrain-logloss:0.00025\ttrain-f1_err:0.00000\tvalidation-logloss:0.00415\tvalidation-f1_err:0.05524\n",
      "[156]\ttrain-logloss:0.00024\ttrain-f1_err:0.00000\tvalidation-logloss:0.00415\tvalidation-f1_err:0.05524\n",
      "[157]\ttrain-logloss:0.00024\ttrain-f1_err:0.00000\tvalidation-logloss:0.00415\tvalidation-f1_err:0.05620\n",
      "[158]\ttrain-logloss:0.00023\ttrain-f1_err:0.00000\tvalidation-logloss:0.00414\tvalidation-f1_err:0.05428\n",
      "[159]\ttrain-logloss:0.00023\ttrain-f1_err:0.00000\tvalidation-logloss:0.00416\tvalidation-f1_err:0.05524\n",
      "[160]\ttrain-logloss:0.00022\ttrain-f1_err:0.00000\tvalidation-logloss:0.00418\tvalidation-f1_err:0.05524\n",
      "[161]\ttrain-logloss:0.00022\ttrain-f1_err:0.00000\tvalidation-logloss:0.00418\tvalidation-f1_err:0.05524\n",
      "[162]\ttrain-logloss:0.00022\ttrain-f1_err:0.00000\tvalidation-logloss:0.00419\tvalidation-f1_err:0.05524\n"
     ]
    },
    {
     "name": "stdout",
     "output_type": "stream",
     "text": [
      "[163]\ttrain-logloss:0.00022\ttrain-f1_err:0.00000\tvalidation-logloss:0.00419\tvalidation-f1_err:0.05428\n",
      "[164]\ttrain-logloss:0.00021\ttrain-f1_err:0.00000\tvalidation-logloss:0.00418\tvalidation-f1_err:0.05428\n",
      "[165]\ttrain-logloss:0.00021\ttrain-f1_err:0.00000\tvalidation-logloss:0.00414\tvalidation-f1_err:0.05428\n",
      "[166]\ttrain-logloss:0.00020\ttrain-f1_err:0.00000\tvalidation-logloss:0.00415\tvalidation-f1_err:0.05333\n",
      "[167]\ttrain-logloss:0.00020\ttrain-f1_err:0.00000\tvalidation-logloss:0.00415\tvalidation-f1_err:0.05256\n",
      "[168]\ttrain-logloss:0.00020\ttrain-f1_err:0.00000\tvalidation-logloss:0.00417\tvalidation-f1_err:0.05447\n",
      "[169]\ttrain-logloss:0.00019\ttrain-f1_err:0.00000\tvalidation-logloss:0.00415\tvalidation-f1_err:0.05447\n",
      "[170]\ttrain-logloss:0.00019\ttrain-f1_err:0.00000\tvalidation-logloss:0.00414\tvalidation-f1_err:0.05351\n",
      "[171]\ttrain-logloss:0.00019\ttrain-f1_err:0.00000\tvalidation-logloss:0.00414\tvalidation-f1_err:0.05351\n",
      "[172]\ttrain-logloss:0.00018\ttrain-f1_err:0.00000\tvalidation-logloss:0.00416\tvalidation-f1_err:0.05351\n",
      "[173]\ttrain-logloss:0.00018\ttrain-f1_err:0.00000\tvalidation-logloss:0.00416\tvalidation-f1_err:0.05428\n",
      "[174]\ttrain-logloss:0.00018\ttrain-f1_err:0.00000\tvalidation-logloss:0.00416\tvalidation-f1_err:0.05428\n",
      "[175]\ttrain-logloss:0.00018\ttrain-f1_err:0.00000\tvalidation-logloss:0.00416\tvalidation-f1_err:0.05428\n",
      "[176]\ttrain-logloss:0.00017\ttrain-f1_err:0.00000\tvalidation-logloss:0.00415\tvalidation-f1_err:0.05428\n",
      "[177]\ttrain-logloss:0.00017\ttrain-f1_err:0.00000\tvalidation-logloss:0.00415\tvalidation-f1_err:0.05256\n",
      "[178]\ttrain-logloss:0.00017\ttrain-f1_err:0.00000\tvalidation-logloss:0.00415\tvalidation-f1_err:0.05256\n",
      "[179]\ttrain-logloss:0.00017\ttrain-f1_err:0.00000\tvalidation-logloss:0.00415\tvalidation-f1_err:0.05351\n",
      "[180]\ttrain-logloss:0.00016\ttrain-f1_err:0.00000\tvalidation-logloss:0.00413\tvalidation-f1_err:0.05428\n",
      "[181]\ttrain-logloss:0.00016\ttrain-f1_err:0.00000\tvalidation-logloss:0.00413\tvalidation-f1_err:0.05333\n",
      "[182]\ttrain-logloss:0.00016\ttrain-f1_err:0.00000\tvalidation-logloss:0.00412\tvalidation-f1_err:0.05256\n",
      "[183]\ttrain-logloss:0.00016\ttrain-f1_err:0.00000\tvalidation-logloss:0.00414\tvalidation-f1_err:0.05447\n",
      "[184]\ttrain-logloss:0.00015\ttrain-f1_err:0.00000\tvalidation-logloss:0.00416\tvalidation-f1_err:0.05447\n",
      "[185]\ttrain-logloss:0.00015\ttrain-f1_err:0.00000\tvalidation-logloss:0.00418\tvalidation-f1_err:0.05447\n",
      "[186]\ttrain-logloss:0.00015\ttrain-f1_err:0.00000\tvalidation-logloss:0.00417\tvalidation-f1_err:0.05447\n",
      "[187]\ttrain-logloss:0.00015\ttrain-f1_err:0.00000\tvalidation-logloss:0.00417\tvalidation-f1_err:0.05447\n",
      "[188]\ttrain-logloss:0.00015\ttrain-f1_err:0.00000\tvalidation-logloss:0.00419\tvalidation-f1_err:0.05351\n",
      "[189]\ttrain-logloss:0.00015\ttrain-f1_err:0.00000\tvalidation-logloss:0.00419\tvalidation-f1_err:0.05447\n",
      "[190]\ttrain-logloss:0.00014\ttrain-f1_err:0.00000\tvalidation-logloss:0.00419\tvalidation-f1_err:0.05447\n",
      "[191]\ttrain-logloss:0.00014\ttrain-f1_err:0.00000\tvalidation-logloss:0.00419\tvalidation-f1_err:0.05447\n",
      "[192]\ttrain-logloss:0.00014\ttrain-f1_err:0.00000\tvalidation-logloss:0.00418\tvalidation-f1_err:0.05428\n",
      "[193]\ttrain-logloss:0.00014\ttrain-f1_err:0.00000\tvalidation-logloss:0.00419\tvalidation-f1_err:0.05351\n",
      "[194]\ttrain-logloss:0.00014\ttrain-f1_err:0.00000\tvalidation-logloss:0.00419\tvalidation-f1_err:0.05428\n",
      "[195]\ttrain-logloss:0.00013\ttrain-f1_err:0.00000\tvalidation-logloss:0.00419\tvalidation-f1_err:0.05256\n",
      "[196]\ttrain-logloss:0.00013\ttrain-f1_err:0.00000\tvalidation-logloss:0.00419\tvalidation-f1_err:0.05351\n",
      "[197]\ttrain-logloss:0.00013\ttrain-f1_err:0.00000\tvalidation-logloss:0.00418\tvalidation-f1_err:0.05428\n",
      "[198]\ttrain-logloss:0.00013\ttrain-f1_err:0.00000\tvalidation-logloss:0.00418\tvalidation-f1_err:0.05524\n",
      "[199]\ttrain-logloss:0.00013\ttrain-f1_err:0.00000\tvalidation-logloss:0.00419\tvalidation-f1_err:0.05543\n",
      "[200]\ttrain-logloss:0.00013\ttrain-f1_err:0.00000\tvalidation-logloss:0.00420\tvalidation-f1_err:0.05543\n",
      "[201]\ttrain-logloss:0.00013\ttrain-f1_err:0.00000\tvalidation-logloss:0.00420\tvalidation-f1_err:0.05639\n",
      "[202]\ttrain-logloss:0.00012\ttrain-f1_err:0.00000\tvalidation-logloss:0.00418\tvalidation-f1_err:0.05543\n",
      "[203]\ttrain-logloss:0.00012\ttrain-f1_err:0.00000\tvalidation-logloss:0.00417\tvalidation-f1_err:0.05543\n",
      "[204]\ttrain-logloss:0.00012\ttrain-f1_err:0.00000\tvalidation-logloss:0.00417\tvalidation-f1_err:0.05447\n",
      "[205]\ttrain-logloss:0.00012\ttrain-f1_err:0.00000\tvalidation-logloss:0.00418\tvalidation-f1_err:0.05447\n",
      "[206]\ttrain-logloss:0.00012\ttrain-f1_err:0.00000\tvalidation-logloss:0.00418\tvalidation-f1_err:0.05447\n",
      "[207]\ttrain-logloss:0.00012\ttrain-f1_err:0.00000\tvalidation-logloss:0.00417\tvalidation-f1_err:0.05524\n",
      "[208]\ttrain-logloss:0.00012\ttrain-f1_err:0.00000\tvalidation-logloss:0.00416\tvalidation-f1_err:0.05524\n",
      "[209]\ttrain-logloss:0.00011\ttrain-f1_err:0.00000\tvalidation-logloss:0.00415\tvalidation-f1_err:0.05428\n",
      "[210]\ttrain-logloss:0.00011\ttrain-f1_err:0.00000\tvalidation-logloss:0.00414\tvalidation-f1_err:0.05333\n",
      "[211]\ttrain-logloss:0.00011\ttrain-f1_err:0.00000\tvalidation-logloss:0.00415\tvalidation-f1_err:0.05256\n",
      "[212]\ttrain-logloss:0.00011\ttrain-f1_err:0.00000\tvalidation-logloss:0.00415\tvalidation-f1_err:0.05333\n",
      "[213]\ttrain-logloss:0.00011\ttrain-f1_err:0.00000\tvalidation-logloss:0.00416\tvalidation-f1_err:0.05333\n",
      "[214]\ttrain-logloss:0.00011\ttrain-f1_err:0.00000\tvalidation-logloss:0.00417\tvalidation-f1_err:0.05524\n",
      "[215]\ttrain-logloss:0.00011\ttrain-f1_err:0.00000\tvalidation-logloss:0.00417\tvalidation-f1_err:0.05428\n",
      "[216]\ttrain-logloss:0.00011\ttrain-f1_err:0.00000\tvalidation-logloss:0.00418\tvalidation-f1_err:0.05428\n",
      "[217]\ttrain-logloss:0.00011\ttrain-f1_err:0.00000\tvalidation-logloss:0.00418\tvalidation-f1_err:0.05351\n"
     ]
    }
   ],
   "source": [
    "# define evaluation set\n",
    "evals = [(dtrain, \"train\"), (dtune, \"validation\")]\n",
    "\n",
    "# fit model\n",
    "model = xgb.train(params=params,\n",
    "                  dtrain=dtrain,\n",
    "                  num_boost_round=10000,\n",
    "                  evals=evals,\n",
    "                  early_stopping_rounds=50,\n",
    "                  custom_metric = f1_eval)\n",
    "\n",
    "# save model\n",
    "pickle.dump(model, open(os.path.join(model_path, 'model.pkl'), 'wb'))"
   ]
  },
  {
   "cell_type": "markdown",
   "id": "704421a7",
   "metadata": {},
   "source": [
    "# Get final score on validation set"
   ]
  },
  {
   "cell_type": "code",
   "execution_count": 26,
   "id": "28fcceb2",
   "metadata": {
    "ExecuteTime": {
     "end_time": "2023-11-22T18:10:47.074766Z",
     "start_time": "2023-11-22T18:10:46.327207Z"
    }
   },
   "outputs": [
    {
     "name": "stdout",
     "output_type": "stream",
     "text": [
      "Classification report\n",
      "              precision    recall  f1-score   support\n",
      "\n",
      "   Not Fraud       1.00      1.00      1.00     69723\n",
      "    Is Fraud       0.99      0.85      0.92       358\n",
      "\n",
      "    accuracy                           1.00     70081\n",
      "   macro avg       1.00      0.93      0.96     70081\n",
      "weighted avg       1.00      1.00      1.00     70081\n",
      "\n",
      "\n",
      "Macro F1\n",
      "0.9584494796853635\n",
      "\n"
     ]
    },
    {
     "data": {
      "image/png": "[encoded data removed]",
      "text/plain": [
       "<Figure size 640x480 with 2 Axes>"
      ]
     },
     "metadata": {},
     "output_type": "display_data"
    }
   ],
   "source": [
    "# load model\n",
    "model = pickle.load(open(os.path.join(model_path, 'model.pkl'), 'rb'))\n",
    "    \n",
    "preds = model.predict(dvalidate)\n",
    "\n",
    "print(\"Classification report\")\n",
    "print(classification_report(Validate['is_fraud'], np.round(preds), labels=range(0,2), target_names=[\"Not Fraud\", \"Is Fraud\"]))\n",
    "print()\n",
    "print(\"Macro F1\")\n",
    "print(f1_score(Validate['is_fraud'], np.round(preds), average='macro'))\n",
    "print()\n",
    "cm = confusion_matrix(Validate['is_fraud'],np.round(preds))\n",
    "sns.heatmap(cm, \n",
    "            annot=True,\n",
    "            fmt='g', \n",
    "            xticklabels=[\"Not Fraud\", \"Is Fraud\"],\n",
    "            yticklabels=[\"Not Fraud\", \"Is Fraud\"])\n",
    "plt.ylabel('Actual',fontsize=13)\n",
    "plt.xlabel('Prediction',fontsize=13)\n",
    "plt.title('Confusion Matrix',fontsize=17)\n",
    "plt.show()"
   ]
  },
  {
   "cell_type": "code",
   "execution_count": null,
   "id": "30d56609",
   "metadata": {},
   "outputs": [],
   "source": []
  }
 ],
 "metadata": {
  "kernelspec": {
   "display_name": "Python 3 (ipykernel)",
   "language": "python",
   "name": "python3"
  },
  "language_info": {
   "codemirror_mode": {
    "name": "ipython",
    "version": 3
   },
   "file_extension": ".py",
   "mimetype": "text/x-python",
   "name": "python",
   "nbconvert_exporter": "python",
   "pygments_lexer": "ipython3",
   "version": "3.11.5"
  },
  "toc": {
   "base_numbering": 1,
   "nav_menu": {},
   "number_sections": true,
   "sideBar": true,
   "skip_h1_title": false,
   "title_cell": "Table of Contents",
   "title_sidebar": "Contents",
   "toc_cell": false,
   "toc_position": {},
   "toc_section_display": true,
   "toc_window_display": false
  },
  "varInspector": {
   "cols": {
    "lenName": 16,
    "lenType": 16,
    "lenVar": 40
   },
   "kernels_config": {
    "python": {
     "delete_cmd_postfix": "",
     "delete_cmd_prefix": "del ",
     "library": "var_list.py",
     "varRefreshCmd": "print(var_dic_list())"
    },
    "r": {
     "delete_cmd_postfix": ") ",
     "delete_cmd_prefix": "rm(",
     "library": "var_list.r",
     "varRefreshCmd": "cat(var_dic_list()) "
    }
   },
   "types_to_exclude": [
    "module",
    "function",
    "builtin_function_or_method",
    "instance",
    "_Feature"
   ],
   "window_display": false
  }
 },
 "nbformat": 4,
 "nbformat_minor": 5
}
