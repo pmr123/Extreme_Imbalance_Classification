{
 "cells": [
  {
   "cell_type": "markdown",
   "id": "6e8ba1e5",
   "metadata": {},
   "source": [
    "#  Import Libraries"
   ]
  },
  {
   "cell_type": "code",
   "execution_count": 1,
   "id": "479bb517",
   "metadata": {
    "ExecuteTime": {
     "end_time": "2023-11-28T21:39:18.797546Z",
     "start_time": "2023-11-28T21:39:16.294740Z"
    }
   },
   "outputs": [],
   "source": [
    "import pandas as pd\n",
    "import numpy as np\n",
    "from feature_engine.creation import CyclicalFeatures\n",
    "from feature_engine.encoding import OneHotEncoder\n",
    "from transformers import BertTokenizer\n",
    "from sklearn.preprocessing import MinMaxScaler\n",
    "import xgboost as xgb\n",
    "from sklearn.metrics import classification_report, f1_score, confusion_matrix, accuracy_score\n",
    "import seaborn as sns\n",
    "import matplotlib.pyplot as plt \n",
    "import pickle\n",
    "import os"
   ]
  },
  {
   "cell_type": "markdown",
   "id": "6c0efc2b",
   "metadata": {},
   "source": [
    "#  Set constants"
   ]
  },
  {
   "cell_type": "code",
   "execution_count": 2,
   "id": "063ae116",
   "metadata": {
    "ExecuteTime": {
     "end_time": "2023-11-28T21:39:18.804473Z",
     "start_time": "2023-11-28T21:39:18.800931Z"
    }
   },
   "outputs": [],
   "source": [
    "file_path = \"610_ps4_test\\\\610_ps4_test\\\\testingT1FD\\\\cct_test.csv\"\n",
    "model_path = \"models\\\\t1\"\n",
    "random_seed = 42"
   ]
  },
  {
   "cell_type": "markdown",
   "id": "b3994bfe",
   "metadata": {},
   "source": [
    "# Reading Data"
   ]
  },
  {
   "cell_type": "code",
   "execution_count": 3,
   "id": "727914fa",
   "metadata": {
    "ExecuteTime": {
     "end_time": "2023-11-28T21:39:19.465502Z",
     "start_time": "2023-11-28T21:39:18.809253Z"
    }
   },
   "outputs": [],
   "source": [
    "data = pd.read_csv(file_path, header=0)"
   ]
  },
  {
   "cell_type": "markdown",
   "id": "58c06dc1",
   "metadata": {},
   "source": [
    "# Preprocess data"
   ]
  },
  {
   "cell_type": "markdown",
   "id": "fb606a61",
   "metadata": {},
   "source": [
    " ## Delete unwanted columns"
   ]
  },
  {
   "cell_type": "code",
   "execution_count": 4,
   "id": "d00581e4",
   "metadata": {
    "ExecuteTime": {
     "end_time": "2023-11-28T21:39:19.470566Z",
     "start_time": "2023-11-28T21:39:19.467514Z"
    }
   },
   "outputs": [],
   "source": [
    "def del_col(df):\n",
    "    return df.drop(columns=['ssn','cc_num','unix_time','trans_num'])"
   ]
  },
  {
   "cell_type": "markdown",
   "id": "6af277e2",
   "metadata": {},
   "source": [
    "## Feature Creation"
   ]
  },
  {
   "cell_type": "markdown",
   "id": "f367f6e3",
   "metadata": {},
   "source": [
    " ### Combine first and last to find name"
   ]
  },
  {
   "cell_type": "code",
   "execution_count": 5,
   "id": "24717f82",
   "metadata": {
    "ExecuteTime": {
     "end_time": "2023-11-28T21:39:19.481987Z",
     "start_time": "2023-11-28T21:39:19.471572Z"
    }
   },
   "outputs": [],
   "source": [
    "def get_name(df):\n",
    "    df['name'] = df['first'].astype('str') + ' ' + df['last'].astype('str')\n",
    "    df = df.drop(columns=['first', 'last'])\n",
    "    return df"
   ]
  },
  {
   "cell_type": "markdown",
   "id": "028ec2e8",
   "metadata": {},
   "source": [
    "### Get distance between the two (lat,long) pairs"
   ]
  },
  {
   "cell_type": "code",
   "execution_count": 6,
   "id": "682f30ac",
   "metadata": {
    "ExecuteTime": {
     "end_time": "2023-11-28T21:39:19.490096Z",
     "start_time": "2023-11-28T21:39:19.483994Z"
    }
   },
   "outputs": [],
   "source": [
    "def distance_haversine(df):\n",
    "    r = 6371 # distance in KM\n",
    "    p = np.pi/180\n",
    "    a = 0.5 - np.cos((df['merch_lat']-df['lat'])*p)/2 + np.cos(df['lat']*p) * np.cos(df['merch_lat']*p) * (1-np.cos((df['merch_long']-df['long'])*p))/2\n",
    "    df['distance'] =  2 * r * np.arcsin(np.sqrt(a))\n",
    "    df = df.drop(columns=['lat', 'long', 'merch_lat', 'merch_long'])\n",
    "    return df\n",
    "    "
   ]
  },
  {
   "cell_type": "markdown",
   "id": "f4a3e958",
   "metadata": {},
   "source": [
    "## Deal with Categorical data"
   ]
  },
  {
   "cell_type": "code",
   "execution_count": 7,
   "id": "a18ddd01",
   "metadata": {
    "ExecuteTime": {
     "end_time": "2023-11-28T21:39:19.500081Z",
     "start_time": "2023-11-28T21:39:19.492102Z"
    }
   },
   "outputs": [],
   "source": [
    "ohe_cols = ['gender', 'state', 'profile', 'category']\n",
    "def ohe(df):\n",
    "    # load encoder\n",
    "    ohe_encoder = pickle.load(open(os.path.join(model_path, 'ohe_encoder.pkl'), 'rb'))\n",
    "    \n",
    "    # transform df\n",
    "    return ohe_encoder.transform(df)"
   ]
  },
  {
   "cell_type": "markdown",
   "id": "984248b0",
   "metadata": {},
   "source": [
    "## Deal with DateTime Data"
   ]
  },
  {
   "cell_type": "markdown",
   "id": "b4e23170",
   "metadata": {},
   "source": [
    "### Convert into appropriate formats"
   ]
  },
  {
   "cell_type": "code",
   "execution_count": 8,
   "id": "702b63cd",
   "metadata": {
    "ExecuteTime": {
     "end_time": "2023-11-28T21:39:19.508781Z",
     "start_time": "2023-11-28T21:39:19.502092Z"
    }
   },
   "outputs": [],
   "source": [
    "def split_datetime(df):\n",
    "    df[['dob_year', 'dob_month', 'dob_day']] = df['dob'].str.split('-', expand=True)\n",
    "    df[['trans_date_year', 'trans_date_month', 'trans_date_day']] = df['trans_date'].str.split('-', expand=True)\n",
    "    df[['trans_time_hrs', 'trans_time_mins', 'trans_time_secs']] = df['trans_time'].str.split(':', expand=True)\n",
    "    df = df.drop(columns=['dob', 'trans_date', 'trans_time'])\n",
    "    return df"
   ]
  },
  {
   "cell_type": "markdown",
   "id": "d01d31b8",
   "metadata": {},
   "source": [
    "### Decompose variables into sin and cosine components"
   ]
  },
  {
   "cell_type": "code",
   "execution_count": 9,
   "id": "a7a1d09c",
   "metadata": {
    "ExecuteTime": {
     "end_time": "2023-11-28T21:39:19.516151Z",
     "start_time": "2023-11-28T21:39:19.510759Z"
    }
   },
   "outputs": [],
   "source": [
    "# define varaible to convert and respective possible max values\n",
    "cyclical_variables = ['dob_month', 'dob_day', 'trans_date_month', 'trans_date_day', 'trans_time_mins', 'trans_time_secs', 'trans_time_hrs']\n",
    "max_values = {'dob_month':12, 'dob_day':31, 'trans_date_month':12, 'trans_date_day':31,'trans_time_hrs':24, 'trans_time_mins':60, 'trans_time_secs':60}\n",
    "\n",
    "\n",
    "def cyclic_transform(df):\n",
    "    # convert columns to numeric format\n",
    "    df[cyclical_variables] = df[cyclical_variables].astype(float)\n",
    "\n",
    "    # load encoder\n",
    "    cyclical = pickle.load(open(os.path.join(model_path, 'cyclical.pkl'), 'rb'))\n",
    "    \n",
    "    # transform df\n",
    "    return cyclical.transform(df)"
   ]
  },
  {
   "cell_type": "markdown",
   "id": "485a4487",
   "metadata": {},
   "source": [
    "## Deal with Text Data"
   ]
  },
  {
   "cell_type": "markdown",
   "id": "5695b69f",
   "metadata": {},
   "source": [
    "### Preprocess data"
   ]
  },
  {
   "cell_type": "code",
   "execution_count": 10,
   "id": "7391c247",
   "metadata": {
    "ExecuteTime": {
     "end_time": "2023-11-28T21:39:19.526190Z",
     "start_time": "2023-11-28T21:39:19.518864Z"
    }
   },
   "outputs": [],
   "source": [
    "def preprocess_text(text):\n",
    "    # remove unnecessary characters\n",
    "    text = text.replace('fraud_','').replace(',', '').replace('.', '')\n",
    "    # lowercase text\n",
    "    text = str(text).lower()\n",
    "    return text\n",
    "\n",
    "def preprocess_text_in_df(df):\n",
    "    \n",
    "    df['name'] = np.vectorize(preprocess_text)(df['name']) \n",
    "    df['job'] = np.vectorize(preprocess_text)(df['job']) \n",
    "    df['street'] = np.vectorize(preprocess_text)(df['street']) \n",
    "    df['merchant'] = np.vectorize(preprocess_text)(df['merchant']) \n",
    "    df['city'] = np.vectorize(preprocess_text)(df['city']) \n",
    "    return df"
   ]
  },
  {
   "cell_type": "markdown",
   "id": "f72587dc",
   "metadata": {},
   "source": [
    "### Tokenize text data using BertTokenizer"
   ]
  },
  {
   "cell_type": "code",
   "execution_count": 11,
   "id": "f59a2754",
   "metadata": {
    "ExecuteTime": {
     "end_time": "2023-11-28T21:39:19.859297Z",
     "start_time": "2023-11-28T21:39:19.528197Z"
    }
   },
   "outputs": [],
   "source": [
    "tokenizer = BertTokenizer.from_pretrained('bert-base-uncased')\n",
    "\n",
    "def find_ids(text, max_len):\n",
    "    tk = tokenizer.convert_tokens_to_ids(tokenizer.tokenize(text))\n",
    "    for x in range(len(tk), max_len):\n",
    "        tk.append(0)\n",
    "    \n",
    "    return tk[:max_len]\n",
    "\n",
    "def sent_to_ids(df):\n",
    "    df['name'] = df['name'].apply(find_ids, max_len=5)\n",
    "    df['job'] = df['job'].apply(find_ids, max_len=10)\n",
    "    df['street'] = df['street'].apply(find_ids, max_len=15)\n",
    "    df['merchant'] = df['merchant'].apply(find_ids, max_len=10)\n",
    "    df['city'] = df['city'].apply(find_ids, max_len=5)\n",
    "    \n",
    "    return df\n",
    "\n",
    "def convert_list_to_cols(df, col_name):\n",
    "    tdf = df[col_name].to_list()\n",
    "    tdf = pd.DataFrame(tdf, columns=[str(col_name)+'_'+str(x) for x in range(len(tdf[0]))])\n",
    "    df = pd.concat([df, tdf], axis=1)\n",
    "    df = df.drop(columns=[col_name])\n",
    "    return df\n",
    "\n",
    "def convert_list_to_cols_multi(df):\n",
    "    df = convert_list_to_cols(df, 'name')\n",
    "    df = convert_list_to_cols(df, 'job')\n",
    "    df = convert_list_to_cols(df, 'street')\n",
    "    df = convert_list_to_cols(df, 'merchant')\n",
    "    df = convert_list_to_cols(df, 'city')\n",
    "    return df"
   ]
  },
  {
   "cell_type": "markdown",
   "id": "189c877a",
   "metadata": {},
   "source": [
    "## Convert everything to float and scale values"
   ]
  },
  {
   "cell_type": "code",
   "execution_count": 12,
   "id": "3ad7736a",
   "metadata": {
    "ExecuteTime": {
     "end_time": "2023-11-28T21:39:19.865270Z",
     "start_time": "2023-11-28T21:39:19.861303Z"
    }
   },
   "outputs": [],
   "source": [
    "cols_to_be_normalized = ['zip', 'city_pop', 'amt',\n",
    "                         'dob_month_sin', 'dob_day_sin', \n",
    "                         'trans_date_month_sin', 'trans_date_day_sin', \n",
    "                         'trans_time_mins_sin', 'trans_time_secs_sin', \n",
    "                         'dob_month_cos', 'dob_day_cos', \n",
    "                         'trans_date_month_cos', 'trans_date_day_cos', \n",
    "                         'trans_time_mins_cos', 'trans_time_secs_cos',\n",
    "                         'trans_time_hrs_cos', 'trans_time_hrs_sin']\n",
    "\n",
    "def scale(df):\n",
    "    df = df.astype(float)\n",
    "    \n",
    "    # load encoder\n",
    "    scaler = pickle.load(open(os.path.join(model_path, 'scaler.pkl'), 'rb'))\n",
    "    \n",
    "    scaled = scaler.transform(df[cols_to_be_normalized])\n",
    "    df[cols_to_be_normalized] = pd.DataFrame(scaled, columns=cols_to_be_normalized)\n",
    "    \n",
    "    return df"
   ]
  },
  {
   "cell_type": "markdown",
   "id": "18784b77",
   "metadata": {},
   "source": [
    "## Create function to call above functions"
   ]
  },
  {
   "cell_type": "code",
   "execution_count": 13,
   "id": "ea74b1e6",
   "metadata": {
    "ExecuteTime": {
     "end_time": "2023-11-28T21:39:19.877854Z",
     "start_time": "2023-11-28T21:39:19.867278Z"
    }
   },
   "outputs": [],
   "source": [
    "def preprocess(df):\n",
    "    print(\"     Feature Engineering steps\")\n",
    "    df = del_col(df)\n",
    "    df = get_name(df)\n",
    "    df = distance_haversine(df)\n",
    "    print(\"     Dealing with Categorical Data\")\n",
    "    df = ohe(df)\n",
    "    print(\"     Dealing with DateTime Date\")\n",
    "    df = split_datetime(df)\n",
    "    df = cyclic_transform(df)\n",
    "    print(\"     Dealing with Text Data\")\n",
    "    df = preprocess_text_in_df(df)\n",
    "    df = sent_to_ids(df)\n",
    "    df = convert_list_to_cols_multi(df)\n",
    "    print(\"     Normalizing Data\")\n",
    "    df = scale(df)\n",
    "    df = df.astype(float)\n",
    "    print(\"     Done\")\n",
    "    return df"
   ]
  },
  {
   "cell_type": "markdown",
   "id": "0c2d18b8",
   "metadata": {},
   "source": [
    "## Apply Preprocessing"
   ]
  },
  {
   "cell_type": "code",
   "execution_count": 14,
   "id": "1729b9cd",
   "metadata": {
    "ExecuteTime": {
     "end_time": "2023-11-28T21:41:11.308229Z",
     "start_time": "2023-11-28T21:39:19.879858Z"
    }
   },
   "outputs": [
    {
     "name": "stdout",
     "output_type": "stream",
     "text": [
      "Prepping Dataset\n",
      "     Feature Engineering steps\n",
      "     Dealing with Categorical Data\n",
      "     Dealing with DateTime Date\n",
      "     Dealing with Text Data\n",
      "     Normalizing Data\n",
      "     Done\n"
     ]
    },
    {
     "name": "stderr",
     "output_type": "stream",
     "text": [
      "C:\\Users\\prtkm\\anaconda3\\envs\\pmenv\\Lib\\site-packages\\sklearn\\base.py:458: UserWarning: X has feature names, but MinMaxScaler was fitted without feature names\n",
      "  warnings.warn(\n"
     ]
    }
   ],
   "source": [
    "print(\"Prepping Dataset\")\n",
    "data_pp = preprocess(data)"
   ]
  },
  {
   "cell_type": "markdown",
   "id": "635c84de",
   "metadata": {},
   "source": [
    "# Creating XGB DMatrix"
   ]
  },
  {
   "cell_type": "code",
   "execution_count": 15,
   "id": "d93dbb6d",
   "metadata": {
    "ExecuteTime": {
     "end_time": "2023-11-28T21:41:12.108184Z",
     "start_time": "2023-11-28T21:41:11.311291Z"
    }
   },
   "outputs": [],
   "source": [
    "dmatrix = xgb.DMatrix(data_pp.drop(columns=['is_fraud']), data_pp['is_fraud'], missing=0.0)"
   ]
  },
  {
   "cell_type": "markdown",
   "id": "d0b2a891",
   "metadata": {
    "ExecuteTime": {
     "end_time": "2023-11-22T17:33:52.385449Z",
     "start_time": "2023-11-22T17:33:52.381724Z"
    }
   },
   "source": [
    "# Get final score and export csv file"
   ]
  },
  {
   "cell_type": "code",
   "execution_count": 16,
   "id": "0ae19a05",
   "metadata": {
    "ExecuteTime": {
     "end_time": "2023-11-28T21:41:16.369990Z",
     "start_time": "2023-11-28T21:41:12.109708Z"
    }
   },
   "outputs": [
    {
     "name": "stdout",
     "output_type": "stream",
     "text": [
      "Classification report\n",
      "              precision    recall  f1-score   support\n",
      "\n",
      "   Not Fraud       1.00      1.00      1.00    174259\n",
      "    Is Fraud       1.00      0.83      0.90       943\n",
      "\n",
      "    accuracy                           1.00    175202\n",
      "   macro avg       1.00      0.91      0.95    175202\n",
      "weighted avg       1.00      1.00      1.00    175202\n",
      "\n",
      "\n",
      "Accuracy\n",
      "0.9990639376262828\n",
      "\n",
      "Macro F1\n",
      "0.9522010222444502\n",
      "\n",
      "F1 for fraud class\n",
      "0.9048723897911833\n",
      "\n"
     ]
    },
    {
     "data": {
      "image/png": "[encoded data removed]",
      "text/plain": [
       "<Figure size 640x480 with 2 Axes>"
      ]
     },
     "metadata": {},
     "output_type": "display_data"
    }
   ],
   "source": [
    "# load model\n",
    "model = pickle.load(open(os.path.join(model_path, 'model.pkl'), 'rb'))\n",
    "\n",
    "# get prediction\n",
    "preds = model.predict(dmatrix)\n",
    "\n",
    "# print metrics\n",
    "print(\"Classification report\")\n",
    "print(classification_report(data_pp['is_fraud'], np.round(preds), labels=range(0,2), target_names=[\"Not Fraud\", \"Is Fraud\"]))\n",
    "print()\n",
    "print(\"Accuracy\")\n",
    "print(accuracy_score(data_pp['is_fraud'], np.round(preds)))\n",
    "print()\n",
    "print(\"Macro F1\")\n",
    "print(f1_score(data_pp['is_fraud'], np.round(preds), average='macro'))\n",
    "print()\n",
    "print(\"F1 for fraud class\")\n",
    "print(f1_score(data_pp['is_fraud'], np.round(preds), average='binary'))\n",
    "print()\n",
    "cm = confusion_matrix(data_pp['is_fraud'],np.round(preds))\n",
    "sns.heatmap(cm, \n",
    "            annot=True,\n",
    "            fmt='g', \n",
    "            xticklabels=[\"Not Fraud\", \"Is Fraud\"],\n",
    "            yticklabels=[\"Not Fraud\", \"Is Fraud\"])\n",
    "plt.ylabel('Actual',fontsize=13)\n",
    "plt.xlabel('Prediction',fontsize=13)\n",
    "plt.title('Confusion Matrix',fontsize=17)\n",
    "plt.show()\n",
    "\n",
    "# replace ground truth with preds\n",
    "data['is_fraud'] = np.round(preds)\n",
    "\n",
    "# export as csv\n",
    "data.to_csv(\"Task_1_Prediction.csv\", index=False)"
   ]
  },
  {
   "cell_type": "markdown",
   "id": "5e5ab74f",
   "metadata": {},
   "source": [
    "## For baseline"
   ]
  },
  {
   "cell_type": "code",
   "execution_count": 17,
   "id": "4153499d",
   "metadata": {
    "ExecuteTime": {
     "end_time": "2023-11-28T21:41:18.972535Z",
     "start_time": "2023-11-28T21:41:16.372003Z"
    }
   },
   "outputs": [
    {
     "name": "stdout",
     "output_type": "stream",
     "text": [
      "Classification report\n"
     ]
    },
    {
     "name": "stderr",
     "output_type": "stream",
     "text": [
      "C:\\Users\\prtkm\\anaconda3\\envs\\pmenv\\Lib\\site-packages\\sklearn\\metrics\\_classification.py:1471: UndefinedMetricWarning: Precision and F-score are ill-defined and being set to 0.0 in labels with no predicted samples. Use `zero_division` parameter to control this behavior.\n",
      "  _warn_prf(average, modifier, msg_start, len(result))\n",
      "C:\\Users\\prtkm\\anaconda3\\envs\\pmenv\\Lib\\site-packages\\sklearn\\metrics\\_classification.py:1471: UndefinedMetricWarning: Precision and F-score are ill-defined and being set to 0.0 in labels with no predicted samples. Use `zero_division` parameter to control this behavior.\n",
      "  _warn_prf(average, modifier, msg_start, len(result))\n",
      "C:\\Users\\prtkm\\anaconda3\\envs\\pmenv\\Lib\\site-packages\\sklearn\\metrics\\_classification.py:1471: UndefinedMetricWarning: Precision and F-score are ill-defined and being set to 0.0 in labels with no predicted samples. Use `zero_division` parameter to control this behavior.\n",
      "  _warn_prf(average, modifier, msg_start, len(result))\n"
     ]
    },
    {
     "name": "stdout",
     "output_type": "stream",
     "text": [
      "              precision    recall  f1-score   support\n",
      "\n",
      "   Not Fraud       0.99      1.00      1.00    174259\n",
      "    Is Fraud       0.00      0.00      0.00       943\n",
      "\n",
      "    accuracy                           0.99    175202\n",
      "   macro avg       0.50      0.50      0.50    175202\n",
      "weighted avg       0.99      0.99      0.99    175202\n",
      "\n",
      "\n",
      "Accuracy\n",
      "0.9946176413511262\n",
      "\n",
      "Macro F1\n",
      "0.4986507793430454\n",
      "\n",
      "F1 for fraud class\n",
      "0.0\n",
      "\n"
     ]
    },
    {
     "data": {
      "image/png": "[encoded data removed]",
      "text/plain": [
       "<Figure size 640x480 with 2 Axes>"
      ]
     },
     "metadata": {},
     "output_type": "display_data"
    }
   ],
   "source": [
    "# get prediction\n",
    "preds = [0]*len(data_pp['is_fraud'])\n",
    "\n",
    "# print metrics\n",
    "print(\"Classification report\")\n",
    "print(classification_report(data_pp['is_fraud'], np.round(preds), labels=range(0,2), target_names=[\"Not Fraud\", \"Is Fraud\"]))\n",
    "print()\n",
    "print(\"Accuracy\")\n",
    "print(accuracy_score(data_pp['is_fraud'], np.round(preds)))\n",
    "print()\n",
    "print(\"Macro F1\")\n",
    "print(f1_score(data_pp['is_fraud'], np.round(preds), average='macro'))\n",
    "print()\n",
    "print(\"F1 for fraud class\")\n",
    "print(f1_score(data_pp['is_fraud'], np.round(preds), average='binary'))\n",
    "print()\n",
    "cm = confusion_matrix(data_pp['is_fraud'],np.round(preds))\n",
    "sns.heatmap(cm, \n",
    "            annot=True,\n",
    "            fmt='g', \n",
    "            xticklabels=[\"Not Fraud\", \"Is Fraud\"],\n",
    "            yticklabels=[\"Not Fraud\", \"Is Fraud\"])\n",
    "plt.ylabel('Actual',fontsize=13)\n",
    "plt.xlabel('Prediction',fontsize=13)\n",
    "plt.title('Confusion Matrix',fontsize=17)\n",
    "plt.show()\n",
    "\n",
    "# replace ground truth with preds\n",
    "data['is_fraud'] = np.round(preds)\n",
    "\n",
    "# export as csv\n",
    "data.to_csv(\"Task_1_Prediction_baseline.csv\", index=False)"
   ]
  },
  {
   "cell_type": "code",
   "execution_count": null,
   "id": "078e4804",
   "metadata": {},
   "outputs": [],
   "source": []
  }
 ],
 "metadata": {
  "kernelspec": {
   "display_name": "Python 3 (ipykernel)",
   "language": "python",
   "name": "python3"
  },
  "language_info": {
   "codemirror_mode": {
    "name": "ipython",
    "version": 3
   },
   "file_extension": ".py",
   "mimetype": "text/x-python",
   "name": "python",
   "nbconvert_exporter": "python",
   "pygments_lexer": "ipython3",
   "version": "3.11.5"
  },
  "toc": {
   "base_numbering": 1,
   "nav_menu": {},
   "number_sections": true,
   "sideBar": true,
   "skip_h1_title": false,
   "title_cell": "Table of Contents",
   "title_sidebar": "Contents",
   "toc_cell": false,
   "toc_position": {},
   "toc_section_display": true,
   "toc_window_display": false
  },
  "varInspector": {
   "cols": {
    "lenName": 16,
    "lenType": 16,
    "lenVar": 40
   },
   "kernels_config": {
    "python": {
     "delete_cmd_postfix": "",
     "delete_cmd_prefix": "del ",
     "library": "var_list.py",
     "varRefreshCmd": "print(var_dic_list())"
    },
    "r": {
     "delete_cmd_postfix": ") ",
     "delete_cmd_prefix": "rm(",
     "library": "var_list.r",
     "varRefreshCmd": "cat(var_dic_list()) "
    }
   },
   "types_to_exclude": [
    "module",
    "function",
    "builtin_function_or_method",
    "instance",
    "_Feature"
   ],
   "window_display": false
  }
 },
 "nbformat": 4,
 "nbformat_minor": 5
}
