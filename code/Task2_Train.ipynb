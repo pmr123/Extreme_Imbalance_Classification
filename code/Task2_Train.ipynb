{
 "cells": [
  {
   "cell_type": "markdown",
   "id": "7251b51b",
   "metadata": {},
   "source": [
    "# Import libraries "
   ]
  },
  {
   "cell_type": "code",
   "execution_count": 1,
   "id": "2fbcd28c-acc0-4ae1-921c-5acc39c840c4",
   "metadata": {
    "ExecuteTime": {
     "end_time": "2023-11-22T18:22:22.350783Z",
     "start_time": "2023-11-22T18:22:20.829883Z"
    }
   },
   "outputs": [],
   "source": [
    "import pandas as pd\n",
    "import numpy as np\n",
    "from sklearn.model_selection import train_test_split\n",
    "from sklearn.preprocessing import StandardScaler\n",
    "from sklearn.preprocessing import LabelEncoder\n",
    "from sklearn.utils.class_weight import compute_class_weight\n",
    "import xgboost as xgb\n",
    "import pickle\n",
    "from sklearn.metrics import classification_report, f1_score, confusion_matrix\n",
    "import seaborn as sns\n",
    "import matplotlib.pyplot as plt \n",
    "import os\n",
    "import warnings\n",
    "warnings.filterwarnings(\"ignore\")"
   ]
  },
  {
   "cell_type": "markdown",
   "id": "c00ab17b",
   "metadata": {},
   "source": [
    "# Set Constants"
   ]
  },
  {
   "cell_type": "code",
   "execution_count": 2,
   "id": "d582e289-54a8-4d05-bc11-a645f2b52947",
   "metadata": {
    "ExecuteTime": {
     "end_time": "2023-11-22T18:22:22.355646Z",
     "start_time": "2023-11-22T18:22:22.352499Z"
    }
   },
   "outputs": [],
   "source": [
    "file_path = \"610_ps4_training\\\\610_ps4_training\\\\trainingT2HAR\\\\har_train.csv\"\n",
    "model_path = \"models\\\\t2\"\n",
    "random_seed = 42"
   ]
  },
  {
   "cell_type": "markdown",
   "id": "e32e3260",
   "metadata": {},
   "source": [
    "# Read Data"
   ]
  },
  {
   "cell_type": "code",
   "execution_count": 3,
   "id": "62b2f021",
   "metadata": {
    "ExecuteTime": {
     "end_time": "2023-11-22T18:22:22.451241Z",
     "start_time": "2023-11-22T18:22:22.356732Z"
    }
   },
   "outputs": [],
   "source": [
    "train_data = pd.read_csv(file_path, header=None)"
   ]
  },
  {
   "cell_type": "markdown",
   "id": "2effdcf5",
   "metadata": {},
   "source": [
    "## Find number of columns and rows with NaN entries"
   ]
  },
  {
   "cell_type": "code",
   "execution_count": 4,
   "id": "586bbf86",
   "metadata": {
    "ExecuteTime": {
     "end_time": "2023-11-22T18:22:22.457270Z",
     "start_time": "2023-11-22T18:22:22.452255Z"
    }
   },
   "outputs": [
    {
     "name": "stdout",
     "output_type": "stream",
     "text": [
      "0\n"
     ]
    }
   ],
   "source": [
    "print(np.count_nonzero(train_data.isnull().any().sum()))"
   ]
  },
  {
   "cell_type": "markdown",
   "id": "535dcc0e",
   "metadata": {},
   "source": [
    "We see that we have no NaN value which is good"
   ]
  },
  {
   "cell_type": "markdown",
   "id": "dd3c124e",
   "metadata": {},
   "source": [
    "## Splitting data into train, tune and validate"
   ]
  },
  {
   "cell_type": "code",
   "execution_count": 5,
   "id": "9a022bf2",
   "metadata": {
    "ExecuteTime": {
     "end_time": "2023-11-22T18:22:22.479907Z",
     "start_time": "2023-11-22T18:22:22.458391Z"
    }
   },
   "outputs": [
    {
     "name": "stdout",
     "output_type": "stream",
     "text": [
      "Train data shape =  (1977, 328)\n",
      "Train ground truth shape =  (1977,)\n",
      "Tune data shape =  (245, 328)\n",
      "Tune ground truth shape =  (245,)\n",
      "Test data shape =  (220, 328)\n",
      "Test ground truth shape =  (220,)\n"
     ]
    }
   ],
   "source": [
    "X_train, X_tune, y_train, y_tune = train_test_split(train_data.iloc[:,:-1], train_data.iloc[:,-1], test_size=0.10, random_state=random_seed, stratify= train_data.iloc[:,-1])\n",
    "X_train, X_test, y_train, y_test = train_test_split(X_train, y_train, test_size=0.10, random_state=random_seed, stratify= y_train)\n",
    "\n",
    "# resetting index\n",
    "X_train = X_train.reset_index(drop=True)\n",
    "y_train = y_train.reset_index(drop=True)\n",
    "X_tune = X_tune.reset_index(drop=True)\n",
    "y_tune = y_tune.reset_index(drop=True)\n",
    "X_test = X_test.reset_index(drop=True)\n",
    "y_test = y_test.reset_index(drop=True)\n",
    "\n",
    "# delete data dataframe to save memory\n",
    "train_data = train_data.iloc[0:0]\n",
    "\n",
    "print(\"Train data shape = \",X_train.shape)\n",
    "print(\"Train ground truth shape = \",y_train.shape)\n",
    "print(\"Tune data shape = \",X_tune.shape)\n",
    "print(\"Tune ground truth shape = \",y_tune.shape)\n",
    "print(\"Test data shape = \",X_test.shape)\n",
    "print(\"Test ground truth shape = \",y_test.shape)"
   ]
  },
  {
   "cell_type": "markdown",
   "id": "3b091238",
   "metadata": {},
   "source": [
    "# Exploring data"
   ]
  },
  {
   "cell_type": "markdown",
   "id": "752de2bf",
   "metadata": {},
   "source": [
    "##  Get statistics of columns"
   ]
  },
  {
   "cell_type": "code",
   "execution_count": 6,
   "id": "f4845eb2",
   "metadata": {
    "ExecuteTime": {
     "end_time": "2023-11-22T18:22:22.676802Z",
     "start_time": "2023-11-22T18:22:22.480513Z"
    }
   },
   "outputs": [
    {
     "data": {
      "text/html": [
       "<div>\n",
       "<style scoped>\n",
       "    .dataframe tbody tr th:only-of-type {\n",
       "        vertical-align: middle;\n",
       "    }\n",
       "\n",
       "    .dataframe tbody tr th {\n",
       "        vertical-align: top;\n",
       "    }\n",
       "\n",
       "    .dataframe thead th {\n",
       "        text-align: right;\n",
       "    }\n",
       "</style>\n",
       "<table border=\"1\" class=\"dataframe\">\n",
       "  <thead>\n",
       "    <tr style=\"text-align: right;\">\n",
       "      <th></th>\n",
       "      <th>0</th>\n",
       "      <th>1</th>\n",
       "      <th>2</th>\n",
       "      <th>3</th>\n",
       "      <th>4</th>\n",
       "      <th>5</th>\n",
       "      <th>6</th>\n",
       "      <th>7</th>\n",
       "      <th>8</th>\n",
       "      <th>9</th>\n",
       "      <th>...</th>\n",
       "      <th>318</th>\n",
       "      <th>319</th>\n",
       "      <th>320</th>\n",
       "      <th>321</th>\n",
       "      <th>322</th>\n",
       "      <th>323</th>\n",
       "      <th>324</th>\n",
       "      <th>325</th>\n",
       "      <th>326</th>\n",
       "      <th>327</th>\n",
       "    </tr>\n",
       "  </thead>\n",
       "  <tbody>\n",
       "    <tr>\n",
       "      <th>count</th>\n",
       "      <td>1977.000000</td>\n",
       "      <td>1977.000000</td>\n",
       "      <td>1977.000000</td>\n",
       "      <td>1977.000000</td>\n",
       "      <td>1977.000000</td>\n",
       "      <td>1.977000e+03</td>\n",
       "      <td>1977.000000</td>\n",
       "      <td>1977.000000</td>\n",
       "      <td>1977.000000</td>\n",
       "      <td>1977.000000</td>\n",
       "      <td>...</td>\n",
       "      <td>1.977000e+03</td>\n",
       "      <td>1.977000e+03</td>\n",
       "      <td>1.977000e+03</td>\n",
       "      <td>1.977000e+03</td>\n",
       "      <td>1977.000000</td>\n",
       "      <td>1977.000000</td>\n",
       "      <td>1.977000e+03</td>\n",
       "      <td>1.977000e+03</td>\n",
       "      <td>1.977000e+03</td>\n",
       "      <td>1.977000e+03</td>\n",
       "    </tr>\n",
       "    <tr>\n",
       "      <th>mean</th>\n",
       "      <td>0.174386</td>\n",
       "      <td>56.498599</td>\n",
       "      <td>0.395613</td>\n",
       "      <td>0.287810</td>\n",
       "      <td>0.499826</td>\n",
       "      <td>1.822850e+00</td>\n",
       "      <td>0.029870</td>\n",
       "      <td>-76.640110</td>\n",
       "      <td>19.728423</td>\n",
       "      <td>8.051911</td>\n",
       "      <td>...</td>\n",
       "      <td>4.285714e-01</td>\n",
       "      <td>3.333333e-01</td>\n",
       "      <td>4.761905e-02</td>\n",
       "      <td>9.523810e-02</td>\n",
       "      <td>0.054628</td>\n",
       "      <td>0.601922</td>\n",
       "      <td>3.809524e-01</td>\n",
       "      <td>3.333333e-01</td>\n",
       "      <td>2.857143e-01</td>\n",
       "      <td>2.380952e-01</td>\n",
       "    </tr>\n",
       "    <tr>\n",
       "      <th>std</th>\n",
       "      <td>0.396050</td>\n",
       "      <td>114.788186</td>\n",
       "      <td>0.317586</td>\n",
       "      <td>1.298402</td>\n",
       "      <td>0.052124</td>\n",
       "      <td>5.341645e+00</td>\n",
       "      <td>0.042038</td>\n",
       "      <td>143.334024</td>\n",
       "      <td>83.734542</td>\n",
       "      <td>13.433760</td>\n",
       "      <td>...</td>\n",
       "      <td>9.772434e-15</td>\n",
       "      <td>2.554159e-15</td>\n",
       "      <td>2.193245e-15</td>\n",
       "      <td>4.386490e-15</td>\n",
       "      <td>0.565587</td>\n",
       "      <td>3.223122</td>\n",
       "      <td>1.749044e-14</td>\n",
       "      <td>2.554159e-15</td>\n",
       "      <td>3.886764e-16</td>\n",
       "      <td>2.581922e-15</td>\n",
       "    </tr>\n",
       "    <tr>\n",
       "      <th>min</th>\n",
       "      <td>0.000000</td>\n",
       "      <td>-574.017018</td>\n",
       "      <td>0.002734</td>\n",
       "      <td>0.000000</td>\n",
       "      <td>0.110307</td>\n",
       "      <td>0.000000e+00</td>\n",
       "      <td>0.000000</td>\n",
       "      <td>-1924.085961</td>\n",
       "      <td>-358.065291</td>\n",
       "      <td>0.000405</td>\n",
       "      <td>...</td>\n",
       "      <td>4.285714e-01</td>\n",
       "      <td>3.333333e-01</td>\n",
       "      <td>4.761905e-02</td>\n",
       "      <td>9.523810e-02</td>\n",
       "      <td>0.000000</td>\n",
       "      <td>0.000000</td>\n",
       "      <td>3.809524e-01</td>\n",
       "      <td>3.333333e-01</td>\n",
       "      <td>2.857143e-01</td>\n",
       "      <td>2.380952e-01</td>\n",
       "    </tr>\n",
       "    <tr>\n",
       "      <th>25%</th>\n",
       "      <td>0.000000</td>\n",
       "      <td>-0.124842</td>\n",
       "      <td>0.146436</td>\n",
       "      <td>0.000000</td>\n",
       "      <td>0.492933</td>\n",
       "      <td>5.503760e-34</td>\n",
       "      <td>0.001248</td>\n",
       "      <td>-107.281635</td>\n",
       "      <td>-0.752323</td>\n",
       "      <td>0.925037</td>\n",
       "      <td>...</td>\n",
       "      <td>4.285714e-01</td>\n",
       "      <td>3.333333e-01</td>\n",
       "      <td>4.761905e-02</td>\n",
       "      <td>9.523810e-02</td>\n",
       "      <td>0.000000</td>\n",
       "      <td>0.000000</td>\n",
       "      <td>3.809524e-01</td>\n",
       "      <td>3.333333e-01</td>\n",
       "      <td>2.857143e-01</td>\n",
       "      <td>2.380952e-01</td>\n",
       "    </tr>\n",
       "    <tr>\n",
       "      <th>50%</th>\n",
       "      <td>0.000000</td>\n",
       "      <td>19.804297</td>\n",
       "      <td>0.285488</td>\n",
       "      <td>0.000000</td>\n",
       "      <td>0.500000</td>\n",
       "      <td>6.247446e-02</td>\n",
       "      <td>0.012748</td>\n",
       "      <td>-27.240726</td>\n",
       "      <td>0.281777</td>\n",
       "      <td>4.986858</td>\n",
       "      <td>...</td>\n",
       "      <td>4.285714e-01</td>\n",
       "      <td>3.333333e-01</td>\n",
       "      <td>4.761905e-02</td>\n",
       "      <td>9.523810e-02</td>\n",
       "      <td>0.000000</td>\n",
       "      <td>0.000000</td>\n",
       "      <td>3.809524e-01</td>\n",
       "      <td>3.333333e-01</td>\n",
       "      <td>2.857143e-01</td>\n",
       "      <td>2.380952e-01</td>\n",
       "    </tr>\n",
       "    <tr>\n",
       "      <th>75%</th>\n",
       "      <td>0.000000</td>\n",
       "      <td>115.982551</td>\n",
       "      <td>0.578140</td>\n",
       "      <td>0.000000</td>\n",
       "      <td>0.509562</td>\n",
       "      <td>9.409862e-01</td>\n",
       "      <td>0.043865</td>\n",
       "      <td>-3.952808</td>\n",
       "      <td>56.062798</td>\n",
       "      <td>9.012445</td>\n",
       "      <td>...</td>\n",
       "      <td>4.285714e-01</td>\n",
       "      <td>3.333333e-01</td>\n",
       "      <td>4.761905e-02</td>\n",
       "      <td>9.523810e-02</td>\n",
       "      <td>0.000000</td>\n",
       "      <td>0.000000</td>\n",
       "      <td>3.809524e-01</td>\n",
       "      <td>3.333333e-01</td>\n",
       "      <td>2.857143e-01</td>\n",
       "      <td>2.380952e-01</td>\n",
       "    </tr>\n",
       "    <tr>\n",
       "      <th>max</th>\n",
       "      <td>1.904762</td>\n",
       "      <td>555.953104</td>\n",
       "      <td>1.000000</td>\n",
       "      <td>21.000000</td>\n",
       "      <td>0.860115</td>\n",
       "      <td>4.912380e+01</td>\n",
       "      <td>0.441168</td>\n",
       "      <td>534.880750</td>\n",
       "      <td>414.958935</td>\n",
       "      <td>150.131821</td>\n",
       "      <td>...</td>\n",
       "      <td>4.285714e-01</td>\n",
       "      <td>3.333333e-01</td>\n",
       "      <td>4.761905e-02</td>\n",
       "      <td>9.523810e-02</td>\n",
       "      <td>19.000000</td>\n",
       "      <td>21.000000</td>\n",
       "      <td>3.809524e-01</td>\n",
       "      <td>3.333333e-01</td>\n",
       "      <td>2.857143e-01</td>\n",
       "      <td>2.380952e-01</td>\n",
       "    </tr>\n",
       "  </tbody>\n",
       "</table>\n",
       "<p>8 rows × 328 columns</p>\n",
       "</div>"
      ],
      "text/plain": [
       "               0            1            2            3            4    \\\n",
       "count  1977.000000  1977.000000  1977.000000  1977.000000  1977.000000   \n",
       "mean      0.174386    56.498599     0.395613     0.287810     0.499826   \n",
       "std       0.396050   114.788186     0.317586     1.298402     0.052124   \n",
       "min       0.000000  -574.017018     0.002734     0.000000     0.110307   \n",
       "25%       0.000000    -0.124842     0.146436     0.000000     0.492933   \n",
       "50%       0.000000    19.804297     0.285488     0.000000     0.500000   \n",
       "75%       0.000000   115.982551     0.578140     0.000000     0.509562   \n",
       "max       1.904762   555.953104     1.000000    21.000000     0.860115   \n",
       "\n",
       "                5            6            7            8            9    ...  \\\n",
       "count  1.977000e+03  1977.000000  1977.000000  1977.000000  1977.000000  ...   \n",
       "mean   1.822850e+00     0.029870   -76.640110    19.728423     8.051911  ...   \n",
       "std    5.341645e+00     0.042038   143.334024    83.734542    13.433760  ...   \n",
       "min    0.000000e+00     0.000000 -1924.085961  -358.065291     0.000405  ...   \n",
       "25%    5.503760e-34     0.001248  -107.281635    -0.752323     0.925037  ...   \n",
       "50%    6.247446e-02     0.012748   -27.240726     0.281777     4.986858  ...   \n",
       "75%    9.409862e-01     0.043865    -3.952808    56.062798     9.012445  ...   \n",
       "max    4.912380e+01     0.441168   534.880750   414.958935   150.131821  ...   \n",
       "\n",
       "                318           319           320           321          322  \\\n",
       "count  1.977000e+03  1.977000e+03  1.977000e+03  1.977000e+03  1977.000000   \n",
       "mean   4.285714e-01  3.333333e-01  4.761905e-02  9.523810e-02     0.054628   \n",
       "std    9.772434e-15  2.554159e-15  2.193245e-15  4.386490e-15     0.565587   \n",
       "min    4.285714e-01  3.333333e-01  4.761905e-02  9.523810e-02     0.000000   \n",
       "25%    4.285714e-01  3.333333e-01  4.761905e-02  9.523810e-02     0.000000   \n",
       "50%    4.285714e-01  3.333333e-01  4.761905e-02  9.523810e-02     0.000000   \n",
       "75%    4.285714e-01  3.333333e-01  4.761905e-02  9.523810e-02     0.000000   \n",
       "max    4.285714e-01  3.333333e-01  4.761905e-02  9.523810e-02    19.000000   \n",
       "\n",
       "               323           324           325           326           327  \n",
       "count  1977.000000  1.977000e+03  1.977000e+03  1.977000e+03  1.977000e+03  \n",
       "mean      0.601922  3.809524e-01  3.333333e-01  2.857143e-01  2.380952e-01  \n",
       "std       3.223122  1.749044e-14  2.554159e-15  3.886764e-16  2.581922e-15  \n",
       "min       0.000000  3.809524e-01  3.333333e-01  2.857143e-01  2.380952e-01  \n",
       "25%       0.000000  3.809524e-01  3.333333e-01  2.857143e-01  2.380952e-01  \n",
       "50%       0.000000  3.809524e-01  3.333333e-01  2.857143e-01  2.380952e-01  \n",
       "75%       0.000000  3.809524e-01  3.333333e-01  2.857143e-01  2.380952e-01  \n",
       "max      21.000000  3.809524e-01  3.333333e-01  2.857143e-01  2.380952e-01  \n",
       "\n",
       "[8 rows x 328 columns]"
      ]
     },
     "execution_count": 6,
     "metadata": {},
     "output_type": "execute_result"
    }
   ],
   "source": [
    "X_train.describe()"
   ]
  },
  {
   "cell_type": "markdown",
   "id": "fa42f96e",
   "metadata": {},
   "source": [
    "## Get Class distribution"
   ]
  },
  {
   "cell_type": "code",
   "execution_count": 7,
   "id": "c4054d05",
   "metadata": {
    "ExecuteTime": {
     "end_time": "2023-11-22T18:22:22.682418Z",
     "start_time": "2023-11-22T18:22:22.677889Z"
    }
   },
   "outputs": [
    {
     "name": "stdout",
     "output_type": "stream",
     "text": [
      "Count wise class distribution\n",
      "328\n",
      "Sitting              563\n",
      "Tennis               470\n",
      "Football             313\n",
      "Cycling              221\n",
      "Swimming              99\n",
      "JumpRope              94\n",
      "WalkingUpstairs       77\n",
      "WalkingDownstairs     68\n",
      "Walking               48\n",
      "Pushups               14\n",
      "Jogging               10\n",
      "Name: count, dtype: int64\n",
      "\n",
      "Percentage wise class distribution\n",
      "328\n",
      "Sitting              28.477491\n",
      "Tennis               23.773394\n",
      "Football             15.832069\n",
      "Cycling              11.178553\n",
      "Swimming              5.007587\n",
      "JumpRope              4.754679\n",
      "WalkingUpstairs       3.894790\n",
      "WalkingDownstairs     3.439555\n",
      "Walking               2.427921\n",
      "Pushups               0.708144\n",
      "Jogging               0.505817\n",
      "Name: count, dtype: float64\n"
     ]
    }
   ],
   "source": [
    "print(\"Count wise class distribution\")\n",
    "print(y_train.value_counts())\n",
    "print()\n",
    "print(\"Percentage wise class distribution\")\n",
    "print((y_train.value_counts()/y_train.value_counts().sum())*100)"
   ]
  },
  {
   "cell_type": "markdown",
   "id": "a29786d6",
   "metadata": {},
   "source": [
    "# Get columns with only 1 unique value"
   ]
  },
  {
   "cell_type": "code",
   "execution_count": 8,
   "id": "33649c75",
   "metadata": {
    "ExecuteTime": {
     "end_time": "2023-11-22T18:22:22.712220Z",
     "start_time": "2023-11-22T18:22:22.683508Z"
    }
   },
   "outputs": [
    {
     "name": "stdout",
     "output_type": "stream",
     "text": [
      "Number of columns with only 1 unique value =  120\n"
     ]
    }
   ],
   "source": [
    "cols_to_be_dropped = X_train.loc[:, X_train.nunique() == 1].columns\n",
    "print('Number of columns with only 1 unique value = ', len(cols_to_be_dropped))\n",
    "\n",
    "# export dropped cols as csv\n",
    "pd.DataFrame(cols_to_be_dropped).to_csv(os.path.join(model_path, 'Task_2_Dropped_Cols.csv'), index=False)"
   ]
  },
  {
   "cell_type": "markdown",
   "id": "24da15cc",
   "metadata": {},
   "source": [
    "# Preprocess Data"
   ]
  },
  {
   "cell_type": "markdown",
   "id": "7076c56d",
   "metadata": {},
   "source": [
    "## Drop columns with only one unique value"
   ]
  },
  {
   "cell_type": "code",
   "execution_count": 9,
   "id": "6b898a06",
   "metadata": {
    "ExecuteTime": {
     "end_time": "2023-11-22T18:22:22.716021Z",
     "start_time": "2023-11-22T18:22:22.713308Z"
    }
   },
   "outputs": [],
   "source": [
    "def drop_cols(df):\n",
    "    cols_dropped = pd.read_csv(os.path.join(model_path, 'Task_2_Dropped_Cols.csv'), header=0).values\n",
    "    cols_dropped = [x[0] for x in cols_dropped]\n",
    "    return df.drop(columns=cols_dropped)"
   ]
  },
  {
   "cell_type": "markdown",
   "id": "77cc7333",
   "metadata": {},
   "source": [
    "## Standard Scalar"
   ]
  },
  {
   "cell_type": "code",
   "execution_count": 10,
   "id": "de95fb12",
   "metadata": {
    "ExecuteTime": {
     "end_time": "2023-11-22T18:22:22.725426Z",
     "start_time": "2023-11-22T18:22:22.718126Z"
    }
   },
   "outputs": [],
   "source": [
    "def fit_scalar(df):\n",
    "    # Standardize the dataset                                             \n",
    "    scaler = StandardScaler()\n",
    "    \n",
    "    # Fit on the train set only\n",
    "    scaler.fit(df)\n",
    "    \n",
    "    # save tranformer\n",
    "    pickle.dump(scaler, open(os.path.join(model_path, 'scaler.pkl'), 'wb'))\n",
    "\n",
    "def scalar(df):\n",
    "    # load tranformer\n",
    "    scaler = pickle.load(open(os.path.join(model_path, 'scaler.pkl'), 'rb'))\n",
    "    # Apply transform to both the train set and the test set. \n",
    "    return scaler.transform(df)"
   ]
  },
  {
   "cell_type": "markdown",
   "id": "92eab772",
   "metadata": {},
   "source": [
    "## Label encoding of ground truths"
   ]
  },
  {
   "cell_type": "code",
   "execution_count": 11,
   "id": "630caae6",
   "metadata": {
    "ExecuteTime": {
     "end_time": "2023-11-22T18:22:22.732667Z",
     "start_time": "2023-11-22T18:22:22.726519Z"
    }
   },
   "outputs": [],
   "source": [
    "def fit_label_encode(y):\n",
    "    le = LabelEncoder()\n",
    "    le.fit(y)\n",
    "    # save tranformer\n",
    "    pickle.dump(le, open(os.path.join(model_path, 'le.pkl'), 'wb'))\n",
    "\n",
    "def label_encode(y):\n",
    "    # load tranformer\n",
    "    le = pickle.load(open(os.path.join(model_path, 'le.pkl'), 'rb'))\n",
    "    # Apply transform to both the train set and the test set. \n",
    "    return pd.Series(le.transform(y))"
   ]
  },
  {
   "cell_type": "markdown",
   "id": "2392fb9d",
   "metadata": {},
   "source": [
    "## Create function to call above functions"
   ]
  },
  {
   "cell_type": "code",
   "execution_count": 12,
   "id": "420ee5ea",
   "metadata": {
    "ExecuteTime": {
     "end_time": "2023-11-22T18:22:22.756620Z",
     "start_time": "2023-11-22T18:22:22.733765Z"
    }
   },
   "outputs": [],
   "source": [
    "def preprocess(df,y, train=False):\n",
    "    df = drop_cols(df)\n",
    "    \n",
    "    if train:\n",
    "        fit_scalar(df)\n",
    "    df = scalar(df)\n",
    "    \n",
    "    if train:\n",
    "        fit_label_encode(y)\n",
    "    y = label_encode(y)    \n",
    "    \n",
    "    df = pd.DataFrame(df)\n",
    "    y = pd.Series(y)\n",
    "    return df, y"
   ]
  },
  {
   "cell_type": "markdown",
   "id": "c0bd99b1",
   "metadata": {},
   "source": [
    "## Applying preprocessing"
   ]
  },
  {
   "cell_type": "code",
   "execution_count": 13,
   "id": "d0565c0b",
   "metadata": {
    "ExecuteTime": {
     "end_time": "2023-11-22T18:22:22.781621Z",
     "start_time": "2023-11-22T18:22:22.756620Z"
    }
   },
   "outputs": [
    {
     "name": "stdout",
     "output_type": "stream",
     "text": [
      "Processing Train\n",
      "Processing Tune\n",
      "Processing Test\n"
     ]
    }
   ],
   "source": [
    "print(\"Processing Train\")\n",
    "X_train, y_train  = preprocess(X_train,y=y_train, train=True)\n",
    "print(\"Processing Tune\")\n",
    "X_tune, y_tune = preprocess(X_tune, y=y_tune)\n",
    "print(\"Processing Test\")\n",
    "X_test, y_test = preprocess(X_test, y=y_test)"
   ]
  },
  {
   "cell_type": "markdown",
   "id": "52b357b9",
   "metadata": {},
   "source": [
    "## Get Class weights"
   ]
  },
  {
   "cell_type": "code",
   "execution_count": 14,
   "id": "352fc5e9",
   "metadata": {
    "ExecuteTime": {
     "end_time": "2023-11-22T18:22:22.785148Z",
     "start_time": "2023-11-22T18:22:22.782707Z"
    }
   },
   "outputs": [],
   "source": [
    "def get_class_weights(y):\n",
    "    class_weights = compute_class_weight(class_weight='balanced', classes=np.unique(y), y=y)\n",
    "    weights = {k: v for k, v in zip(np.unique(y), class_weights)}\n",
    "    # Assigning weights to each instance in the training set\n",
    "    sample_weights = y.map(weights)\n",
    "    return sample_weights"
   ]
  },
  {
   "cell_type": "markdown",
   "id": "0379148c",
   "metadata": {},
   "source": [
    "# Using XGBoost"
   ]
  },
  {
   "cell_type": "markdown",
   "id": "49219b52",
   "metadata": {},
   "source": [
    "## define f1 error for evaluation"
   ]
  },
  {
   "cell_type": "code",
   "execution_count": 15,
   "id": "1355318f",
   "metadata": {
    "ExecuteTime": {
     "end_time": "2023-11-22T18:22:22.792685Z",
     "start_time": "2023-11-22T18:22:22.786180Z"
    }
   },
   "outputs": [],
   "source": [
    "def f1_eval(y_pred, dtrain):\n",
    "    y_true = dtrain.get_label()\n",
    "    err = 1-f1_score(y_true, np.argmax(y_pred,axis=1), average='macro')\n",
    "    return 'f1_err', err"
   ]
  },
  {
   "cell_type": "markdown",
   "id": "71e970dc",
   "metadata": {},
   "source": [
    "## Defining parameters "
   ]
  },
  {
   "cell_type": "code",
   "execution_count": 16,
   "id": "a37a116f",
   "metadata": {
    "ExecuteTime": {
     "end_time": "2023-11-22T18:22:22.800421Z",
     "start_time": "2023-11-22T18:22:22.793256Z"
    }
   },
   "outputs": [],
   "source": [
    "# Define hyperparameters\n",
    "params = {'device' : 'cuda',\n",
    "          'objective' : 'multi:softprob',\n",
    "          'num_class' : 11,\n",
    "          'seed' : random_seed,\n",
    "          'sampling_method' : 'gradient_based'}"
   ]
  },
  {
   "cell_type": "markdown",
   "id": "1c8cb3f7",
   "metadata": {},
   "source": [
    "## Create XGB DMatrix"
   ]
  },
  {
   "cell_type": "code",
   "execution_count": 17,
   "id": "0571d157",
   "metadata": {
    "ExecuteTime": {
     "end_time": "2023-11-22T18:22:22.903842Z",
     "start_time": "2023-11-22T18:22:22.801435Z"
    }
   },
   "outputs": [],
   "source": [
    "# create XGB DMatrix\n",
    "dtrain = xgb.DMatrix(X_train, y_train, missing=0.0, feature_weights=get_class_weights(y_train))\n",
    "dtune = xgb.DMatrix(X_tune, y_tune, missing=0.0, feature_weights=get_class_weights(y_tune))\n",
    "dtest = xgb.DMatrix(X_test, y_test, missing=0.0, feature_weights=get_class_weights(y_test))"
   ]
  },
  {
   "cell_type": "markdown",
   "id": "8238eb10",
   "metadata": {},
   "source": [
    "## Fit Model"
   ]
  },
  {
   "cell_type": "code",
   "execution_count": 18,
   "id": "f9602248",
   "metadata": {
    "ExecuteTime": {
     "end_time": "2023-11-22T18:22:25.508947Z",
     "start_time": "2023-11-22T18:22:22.904846Z"
    }
   },
   "outputs": [
    {
     "name": "stdout",
     "output_type": "stream",
     "text": [
      "[0]\ttrain-mlogloss:1.39201\ttrain-f1_err:0.20228\tvalidation-mlogloss:1.53403\tvalidation-f1_err:0.29872\n",
      "[1]\ttrain-mlogloss:1.05363\ttrain-f1_err:0.12613\tvalidation-mlogloss:1.28808\tvalidation-f1_err:0.32526\n",
      "[2]\ttrain-mlogloss:0.81717\ttrain-f1_err:0.08021\tvalidation-mlogloss:1.10068\tvalidation-f1_err:0.30520\n",
      "[3]\ttrain-mlogloss:0.65430\ttrain-f1_err:0.05320\tvalidation-mlogloss:0.98949\tvalidation-f1_err:0.29701\n",
      "[4]\ttrain-mlogloss:0.53059\ttrain-f1_err:0.02914\tvalidation-mlogloss:0.89841\tvalidation-f1_err:0.27084\n",
      "[5]\ttrain-mlogloss:0.43608\ttrain-f1_err:0.02441\tvalidation-mlogloss:0.83483\tvalidation-f1_err:0.25982\n",
      "[6]\ttrain-mlogloss:0.36223\ttrain-f1_err:0.01771\tvalidation-mlogloss:0.78246\tvalidation-f1_err:0.27719\n",
      "[7]\ttrain-mlogloss:0.30495\ttrain-f1_err:0.01083\tvalidation-mlogloss:0.73665\tvalidation-f1_err:0.25027\n",
      "[8]\ttrain-mlogloss:0.25795\ttrain-f1_err:0.00923\tvalidation-mlogloss:0.69693\tvalidation-f1_err:0.23022\n",
      "[9]\ttrain-mlogloss:0.21741\ttrain-f1_err:0.00560\tvalidation-mlogloss:0.67020\tvalidation-f1_err:0.24851\n",
      "[10]\ttrain-mlogloss:0.18449\ttrain-f1_err:0.00307\tvalidation-mlogloss:0.64867\tvalidation-f1_err:0.25720\n",
      "[11]\ttrain-mlogloss:0.15729\ttrain-f1_err:0.00176\tvalidation-mlogloss:0.63174\tvalidation-f1_err:0.24219\n",
      "[12]\ttrain-mlogloss:0.13666\ttrain-f1_err:0.00024\tvalidation-mlogloss:0.62193\tvalidation-f1_err:0.24028\n",
      "[13]\ttrain-mlogloss:0.11821\ttrain-f1_err:0.00000\tvalidation-mlogloss:0.61211\tvalidation-f1_err:0.24028\n",
      "[14]\ttrain-mlogloss:0.10449\ttrain-f1_err:0.00000\tvalidation-mlogloss:0.60195\tvalidation-f1_err:0.25520\n",
      "[15]\ttrain-mlogloss:0.09171\ttrain-f1_err:0.00024\tvalidation-mlogloss:0.59122\tvalidation-f1_err:0.24523\n",
      "[16]\ttrain-mlogloss:0.08099\ttrain-f1_err:0.00000\tvalidation-mlogloss:0.58326\tvalidation-f1_err:0.23406\n",
      "[17]\ttrain-mlogloss:0.07265\ttrain-f1_err:0.00000\tvalidation-mlogloss:0.58084\tvalidation-f1_err:0.22888\n",
      "[18]\ttrain-mlogloss:0.06520\ttrain-f1_err:0.00000\tvalidation-mlogloss:0.57984\tvalidation-f1_err:0.26059\n",
      "[19]\ttrain-mlogloss:0.05856\ttrain-f1_err:0.00000\tvalidation-mlogloss:0.57335\tvalidation-f1_err:0.23082\n",
      "[20]\ttrain-mlogloss:0.05192\ttrain-f1_err:0.00000\tvalidation-mlogloss:0.56890\tvalidation-f1_err:0.23434\n",
      "[21]\ttrain-mlogloss:0.04749\ttrain-f1_err:0.00000\tvalidation-mlogloss:0.55786\tvalidation-f1_err:0.26261\n",
      "[22]\ttrain-mlogloss:0.04326\ttrain-f1_err:0.00000\tvalidation-mlogloss:0.55896\tvalidation-f1_err:0.26527\n",
      "[23]\ttrain-mlogloss:0.03961\ttrain-f1_err:0.00000\tvalidation-mlogloss:0.55745\tvalidation-f1_err:0.26358\n",
      "[24]\ttrain-mlogloss:0.03625\ttrain-f1_err:0.00000\tvalidation-mlogloss:0.55580\tvalidation-f1_err:0.24035\n",
      "[25]\ttrain-mlogloss:0.03351\ttrain-f1_err:0.00000\tvalidation-mlogloss:0.55288\tvalidation-f1_err:0.23489\n",
      "[26]\ttrain-mlogloss:0.03069\ttrain-f1_err:0.00000\tvalidation-mlogloss:0.55027\tvalidation-f1_err:0.26837\n",
      "[27]\ttrain-mlogloss:0.02834\ttrain-f1_err:0.00000\tvalidation-mlogloss:0.55016\tvalidation-f1_err:0.27384\n",
      "[28]\ttrain-mlogloss:0.02628\ttrain-f1_err:0.00000\tvalidation-mlogloss:0.54976\tvalidation-f1_err:0.27182\n",
      "[29]\ttrain-mlogloss:0.02458\ttrain-f1_err:0.00000\tvalidation-mlogloss:0.54929\tvalidation-f1_err:0.27384\n",
      "[30]\ttrain-mlogloss:0.02303\ttrain-f1_err:0.00000\tvalidation-mlogloss:0.54932\tvalidation-f1_err:0.27384\n",
      "[31]\ttrain-mlogloss:0.02153\ttrain-f1_err:0.00000\tvalidation-mlogloss:0.54922\tvalidation-f1_err:0.24004\n",
      "[32]\ttrain-mlogloss:0.02033\ttrain-f1_err:0.00000\tvalidation-mlogloss:0.54886\tvalidation-f1_err:0.26636\n",
      "[33]\ttrain-mlogloss:0.01913\ttrain-f1_err:0.00000\tvalidation-mlogloss:0.54642\tvalidation-f1_err:0.27038\n",
      "[34]\ttrain-mlogloss:0.01812\ttrain-f1_err:0.00000\tvalidation-mlogloss:0.54314\tvalidation-f1_err:0.26836\n",
      "[35]\ttrain-mlogloss:0.01716\ttrain-f1_err:0.00000\tvalidation-mlogloss:0.54308\tvalidation-f1_err:0.26624\n",
      "[36]\ttrain-mlogloss:0.01633\ttrain-f1_err:0.00000\tvalidation-mlogloss:0.54217\tvalidation-f1_err:0.23657\n",
      "[37]\ttrain-mlogloss:0.01558\ttrain-f1_err:0.00000\tvalidation-mlogloss:0.54209\tvalidation-f1_err:0.26626\n",
      "[38]\ttrain-mlogloss:0.01494\ttrain-f1_err:0.00000\tvalidation-mlogloss:0.53975\tvalidation-f1_err:0.23446\n",
      "[39]\ttrain-mlogloss:0.01431\ttrain-f1_err:0.00000\tvalidation-mlogloss:0.54130\tvalidation-f1_err:0.26636\n",
      "[40]\ttrain-mlogloss:0.01375\ttrain-f1_err:0.00000\tvalidation-mlogloss:0.53993\tvalidation-f1_err:0.26636\n",
      "[41]\ttrain-mlogloss:0.01327\ttrain-f1_err:0.00000\tvalidation-mlogloss:0.53966\tvalidation-f1_err:0.26701\n",
      "[42]\ttrain-mlogloss:0.01278\ttrain-f1_err:0.00000\tvalidation-mlogloss:0.53895\tvalidation-f1_err:0.23528\n",
      "[43]\ttrain-mlogloss:0.01238\ttrain-f1_err:0.00000\tvalidation-mlogloss:0.53922\tvalidation-f1_err:0.23528\n",
      "[44]\ttrain-mlogloss:0.01199\ttrain-f1_err:0.00000\tvalidation-mlogloss:0.53654\tvalidation-f1_err:0.23528\n",
      "[45]\ttrain-mlogloss:0.01158\ttrain-f1_err:0.00000\tvalidation-mlogloss:0.53621\tvalidation-f1_err:0.23446\n",
      "[46]\ttrain-mlogloss:0.01121\ttrain-f1_err:0.00000\tvalidation-mlogloss:0.53545\tvalidation-f1_err:0.23528\n",
      "[47]\ttrain-mlogloss:0.01091\ttrain-f1_err:0.00000\tvalidation-mlogloss:0.53725\tvalidation-f1_err:0.23159\n",
      "[48]\ttrain-mlogloss:0.01063\ttrain-f1_err:0.00000\tvalidation-mlogloss:0.53711\tvalidation-f1_err:0.23092\n",
      "[49]\ttrain-mlogloss:0.01036\ttrain-f1_err:0.00000\tvalidation-mlogloss:0.53590\tvalidation-f1_err:0.21699\n",
      "[50]\ttrain-mlogloss:0.01010\ttrain-f1_err:0.00000\tvalidation-mlogloss:0.53706\tvalidation-f1_err:0.21685\n",
      "[51]\ttrain-mlogloss:0.00986\ttrain-f1_err:0.00000\tvalidation-mlogloss:0.53760\tvalidation-f1_err:0.21685\n",
      "[52]\ttrain-mlogloss:0.00962\ttrain-f1_err:0.00000\tvalidation-mlogloss:0.53826\tvalidation-f1_err:0.21685\n",
      "[53]\ttrain-mlogloss:0.00938\ttrain-f1_err:0.00000\tvalidation-mlogloss:0.53908\tvalidation-f1_err:0.23005\n",
      "[54]\ttrain-mlogloss:0.00917\ttrain-f1_err:0.00000\tvalidation-mlogloss:0.53892\tvalidation-f1_err:0.22487\n",
      "[55]\ttrain-mlogloss:0.00897\ttrain-f1_err:0.00000\tvalidation-mlogloss:0.53800\tvalidation-f1_err:0.23005\n",
      "[56]\ttrain-mlogloss:0.00878\ttrain-f1_err:0.00000\tvalidation-mlogloss:0.53705\tvalidation-f1_err:0.22487\n",
      "[57]\ttrain-mlogloss:0.00860\ttrain-f1_err:0.00000\tvalidation-mlogloss:0.53782\tvalidation-f1_err:0.23078\n",
      "[58]\ttrain-mlogloss:0.00844\ttrain-f1_err:0.00000\tvalidation-mlogloss:0.53661\tvalidation-f1_err:0.23078\n",
      "[59]\ttrain-mlogloss:0.00826\ttrain-f1_err:0.00000\tvalidation-mlogloss:0.53610\tvalidation-f1_err:0.23078\n",
      "[60]\ttrain-mlogloss:0.00812\ttrain-f1_err:0.00000\tvalidation-mlogloss:0.53664\tvalidation-f1_err:0.23078\n",
      "[61]\ttrain-mlogloss:0.00797\ttrain-f1_err:0.00000\tvalidation-mlogloss:0.53715\tvalidation-f1_err:0.23078\n",
      "[62]\ttrain-mlogloss:0.00782\ttrain-f1_err:0.00000\tvalidation-mlogloss:0.53621\tvalidation-f1_err:0.23078\n",
      "[63]\ttrain-mlogloss:0.00769\ttrain-f1_err:0.00000\tvalidation-mlogloss:0.53953\tvalidation-f1_err:0.23078\n",
      "[64]\ttrain-mlogloss:0.00756\ttrain-f1_err:0.00000\tvalidation-mlogloss:0.53821\tvalidation-f1_err:0.23078\n",
      "[65]\ttrain-mlogloss:0.00742\ttrain-f1_err:0.00000\tvalidation-mlogloss:0.53769\tvalidation-f1_err:0.23078\n",
      "[66]\ttrain-mlogloss:0.00731\ttrain-f1_err:0.00000\tvalidation-mlogloss:0.53721\tvalidation-f1_err:0.23078\n",
      "[67]\ttrain-mlogloss:0.00718\ttrain-f1_err:0.00000\tvalidation-mlogloss:0.53819\tvalidation-f1_err:0.23078\n",
      "[68]\ttrain-mlogloss:0.00708\ttrain-f1_err:0.00000\tvalidation-mlogloss:0.53726\tvalidation-f1_err:0.23078\n",
      "[69]\ttrain-mlogloss:0.00698\ttrain-f1_err:0.00000\tvalidation-mlogloss:0.53674\tvalidation-f1_err:0.23078\n",
      "[70]\ttrain-mlogloss:0.00688\ttrain-f1_err:0.00000\tvalidation-mlogloss:0.53809\tvalidation-f1_err:0.23078\n",
      "[71]\ttrain-mlogloss:0.00678\ttrain-f1_err:0.00000\tvalidation-mlogloss:0.54004\tvalidation-f1_err:0.23078\n",
      "[72]\ttrain-mlogloss:0.00669\ttrain-f1_err:0.00000\tvalidation-mlogloss:0.54120\tvalidation-f1_err:0.23078\n",
      "[73]\ttrain-mlogloss:0.00661\ttrain-f1_err:0.00000\tvalidation-mlogloss:0.54291\tvalidation-f1_err:0.23078\n",
      "[74]\ttrain-mlogloss:0.00652\ttrain-f1_err:0.00000\tvalidation-mlogloss:0.54191\tvalidation-f1_err:0.23078\n",
      "[75]\ttrain-mlogloss:0.00644\ttrain-f1_err:0.00000\tvalidation-mlogloss:0.54193\tvalidation-f1_err:0.23078\n",
      "[76]\ttrain-mlogloss:0.00635\ttrain-f1_err:0.00000\tvalidation-mlogloss:0.54191\tvalidation-f1_err:0.23078\n",
      "[77]\ttrain-mlogloss:0.00628\ttrain-f1_err:0.00000\tvalidation-mlogloss:0.54172\tvalidation-f1_err:0.23078\n",
      "[78]\ttrain-mlogloss:0.00621\ttrain-f1_err:0.00000\tvalidation-mlogloss:0.54336\tvalidation-f1_err:0.23251\n",
      "[79]\ttrain-mlogloss:0.00614\ttrain-f1_err:0.00000\tvalidation-mlogloss:0.54408\tvalidation-f1_err:0.23514\n"
     ]
    },
    {
     "name": "stdout",
     "output_type": "stream",
     "text": [
      "[80]\ttrain-mlogloss:0.00607\ttrain-f1_err:0.00000\tvalidation-mlogloss:0.54509\tvalidation-f1_err:0.23446\n",
      "[81]\ttrain-mlogloss:0.00600\ttrain-f1_err:0.00000\tvalidation-mlogloss:0.54582\tvalidation-f1_err:0.23514\n",
      "[82]\ttrain-mlogloss:0.00594\ttrain-f1_err:0.00000\tvalidation-mlogloss:0.54556\tvalidation-f1_err:0.23666\n",
      "[83]\ttrain-mlogloss:0.00588\ttrain-f1_err:0.00000\tvalidation-mlogloss:0.54554\tvalidation-f1_err:0.23685\n",
      "[84]\ttrain-mlogloss:0.00582\ttrain-f1_err:0.00000\tvalidation-mlogloss:0.54553\tvalidation-f1_err:0.23861\n",
      "[85]\ttrain-mlogloss:0.00577\ttrain-f1_err:0.00000\tvalidation-mlogloss:0.54691\tvalidation-f1_err:0.23685\n",
      "[86]\ttrain-mlogloss:0.00572\ttrain-f1_err:0.00000\tvalidation-mlogloss:0.54611\tvalidation-f1_err:0.23861\n",
      "[87]\ttrain-mlogloss:0.00566\ttrain-f1_err:0.00000\tvalidation-mlogloss:0.54479\tvalidation-f1_err:0.23861\n",
      "[88]\ttrain-mlogloss:0.00561\ttrain-f1_err:0.00000\tvalidation-mlogloss:0.54486\tvalidation-f1_err:0.23844\n",
      "[89]\ttrain-mlogloss:0.00556\ttrain-f1_err:0.00000\tvalidation-mlogloss:0.54471\tvalidation-f1_err:0.23844\n",
      "[90]\ttrain-mlogloss:0.00551\ttrain-f1_err:0.00000\tvalidation-mlogloss:0.54485\tvalidation-f1_err:0.23844\n",
      "[91]\ttrain-mlogloss:0.00546\ttrain-f1_err:0.00000\tvalidation-mlogloss:0.54484\tvalidation-f1_err:0.23844\n",
      "[92]\ttrain-mlogloss:0.00542\ttrain-f1_err:0.00000\tvalidation-mlogloss:0.54606\tvalidation-f1_err:0.23844\n",
      "[93]\ttrain-mlogloss:0.00537\ttrain-f1_err:0.00000\tvalidation-mlogloss:0.54716\tvalidation-f1_err:0.23844\n",
      "[94]\ttrain-mlogloss:0.00532\ttrain-f1_err:0.00000\tvalidation-mlogloss:0.54650\tvalidation-f1_err:0.23498\n",
      "[95]\ttrain-mlogloss:0.00528\ttrain-f1_err:0.00000\tvalidation-mlogloss:0.54586\tvalidation-f1_err:0.23498\n",
      "[96]\ttrain-mlogloss:0.00523\ttrain-f1_err:0.00000\tvalidation-mlogloss:0.54501\tvalidation-f1_err:0.23302\n",
      "[97]\ttrain-mlogloss:0.00519\ttrain-f1_err:0.00000\tvalidation-mlogloss:0.54556\tvalidation-f1_err:0.23648\n",
      "[98]\ttrain-mlogloss:0.00515\ttrain-f1_err:0.00000\tvalidation-mlogloss:0.54558\tvalidation-f1_err:0.23648\n",
      "[99]\ttrain-mlogloss:0.00511\ttrain-f1_err:0.00000\tvalidation-mlogloss:0.54525\tvalidation-f1_err:0.23648\n",
      "[100]\ttrain-mlogloss:0.00507\ttrain-f1_err:0.00000\tvalidation-mlogloss:0.54497\tvalidation-f1_err:0.23648\n"
     ]
    }
   ],
   "source": [
    "# define evaluation set\n",
    "evals = [(dtrain, \"train\"), (dtune, \"validation\")]\n",
    "\n",
    "# fit model\n",
    "model = xgb.train(params=params,\n",
    "                  dtrain=dtrain,\n",
    "                  num_boost_round=10000,\n",
    "                  evals=evals,\n",
    "                  early_stopping_rounds=50,\n",
    "                  custom_metric = f1_eval)\n",
    "\n",
    "# save model\n",
    "pickle.dump(model, open(os.path.join(model_path, 'model.pkl'), 'wb'))"
   ]
  },
  {
   "cell_type": "code",
   "execution_count": 19,
   "id": "40b3da92",
   "metadata": {
    "ExecuteTime": {
     "end_time": "2023-11-22T18:22:25.837344Z",
     "start_time": "2023-11-22T18:22:25.510453Z"
    }
   },
   "outputs": [
    {
     "name": "stdout",
     "output_type": "stream",
     "text": [
      "Classification report\n",
      "                   precision    recall  f1-score   support\n",
      "\n",
      "          Cycling       0.82      0.92      0.87        25\n",
      "         Football       0.74      0.83      0.78        35\n",
      "          Jogging       1.00      1.00      1.00         1\n",
      "         JumpRope       1.00      0.55      0.71        11\n",
      "          Pushups       0.00      0.00      0.00         1\n",
      "          Sitting       1.00      0.95      0.98        63\n",
      "         Swimming       0.59      0.91      0.71        11\n",
      "           Tennis       0.73      0.71      0.72        52\n",
      "          Walking       0.75      0.60      0.67         5\n",
      "WalkingDownstairs       0.75      0.38      0.50         8\n",
      "  WalkingUpstairs       0.50      0.62      0.56         8\n",
      "\n",
      "         accuracy                           0.80       220\n",
      "        macro avg       0.72      0.68      0.68       220\n",
      "     weighted avg       0.82      0.80      0.80       220\n",
      "\n",
      "\n",
      "Macro F1\n",
      "0.680741359961281\n",
      "\n"
     ]
    },
    {
     "data": {
      "image/png": "[encoded data removed]",
      "text/plain": [
       "<Figure size 640x480 with 2 Axes>"
      ]
     },
     "metadata": {},
     "output_type": "display_data"
    }
   ],
   "source": [
    "# load model\n",
    "model = pickle.load(open(os.path.join(model_path, 'model.pkl'), 'rb'))\n",
    "    \n",
    "predsxgb = model.predict(dtest)\n",
    "preds = np.argmax(predsxgb,axis=1)\n",
    "\n",
    "# get labels\n",
    "le = pickle.load(open(os.path.join(model_path, 'le.pkl'), 'rb'))\n",
    "labels = le.inverse_transform(range(0,11))\n",
    "\n",
    "print(\"Classification report\")\n",
    "print(classification_report(y_test, preds, labels=range(0,11), target_names=labels))\n",
    "print()\n",
    "print(\"Macro F1\")\n",
    "print(f1_score(y_test, preds, average='macro'))\n",
    "print()\n",
    "cm = confusion_matrix(y_test,preds)\n",
    "sns.heatmap(cm, \n",
    "            annot=True,\n",
    "            fmt='g',\n",
    "            xticklabels=labels,\n",
    "            yticklabels=labels)\n",
    "plt.ylabel('Actual',fontsize=13)\n",
    "plt.xlabel('Prediction',fontsize=13)\n",
    "plt.title('Confusion Matrix',fontsize=17)\n",
    "plt.show()"
   ]
  },
  {
   "cell_type": "code",
   "execution_count": null,
   "id": "b1dc5630",
   "metadata": {},
   "outputs": [],
   "source": []
  }
 ],
 "metadata": {
  "kernelspec": {
   "display_name": "Python 3 (ipykernel)",
   "language": "python",
   "name": "python3"
  },
  "language_info": {
   "codemirror_mode": {
    "name": "ipython",
    "version": 3
   },
   "file_extension": ".py",
   "mimetype": "text/x-python",
   "name": "python",
   "nbconvert_exporter": "python",
   "pygments_lexer": "ipython3",
   "version": "3.11.5"
  },
  "toc": {
   "base_numbering": 1,
   "nav_menu": {},
   "number_sections": true,
   "sideBar": true,
   "skip_h1_title": false,
   "title_cell": "Table of Contents",
   "title_sidebar": "Contents",
   "toc_cell": false,
   "toc_position": {},
   "toc_section_display": true,
   "toc_window_display": false
  },
  "varInspector": {
   "cols": {
    "lenName": 16,
    "lenType": 16,
    "lenVar": 40
   },
   "kernels_config": {
    "python": {
     "delete_cmd_postfix": "",
     "delete_cmd_prefix": "del ",
     "library": "var_list.py",
     "varRefreshCmd": "print(var_dic_list())"
    },
    "r": {
     "delete_cmd_postfix": ") ",
     "delete_cmd_prefix": "rm(",
     "library": "var_list.r",
     "varRefreshCmd": "cat(var_dic_list()) "
    }
   },
   "types_to_exclude": [
    "module",
    "function",
    "builtin_function_or_method",
    "instance",
    "_Feature"
   ],
   "window_display": false
  }
 },
 "nbformat": 4,
 "nbformat_minor": 5
}
